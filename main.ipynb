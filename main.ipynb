{
  "nbformat": 4,
  "nbformat_minor": 0,
  "metadata": {
    "colab": {
      "provenance": [],
      "collapsed_sections": [
        "szp5flp1fA8-",
        "iNcDJ45bGtYk",
        "i1mBd8gGFvBV",
        "MYQL57cD2ejS",
        "jIHKROStFMcR",
        "wLDO_IRrFw7z",
        "ExVB2joZF0rk",
        "3MqIpFTOF1m9",
        "NKq_qwCsF3Dj",
        "wvdngkOTF4Hi",
        "Q19Wm90DF5zf",
        "YSY2k7S3F6d7",
        "ykj42UNeF7K5",
        "QSKeBTgXHRAv",
        "0epVLhL0F88U",
        "8FCFQaq1Hizh",
        "BhKPZQJZF9w0",
        "I0mklEluF-jI",
        "eFehWNexGASC",
        "WbqugasGGCKJ",
        "hN_fvENUGBAm",
        "vteEy9QFGD5I",
        "VXxx7RCVSs4j",
        "jpo7oASHGEu7"
      ]
    },
    "kernelspec": {
      "name": "python3",
      "display_name": "Python 3"
    },
    "language_info": {
      "name": "python"
    },
    "widgets": {
      "application/vnd.jupyter.widget-state+json": {
        "49c9447b39b4455494ac9af5e7c34ea6": {
          "model_module": "@jupyter-widgets/controls",
          "model_name": "VBoxModel",
          "model_module_version": "1.5.0",
          "state": {
            "_dom_classes": [
              "widget-interact"
            ],
            "_model_module": "@jupyter-widgets/controls",
            "_model_module_version": "1.5.0",
            "_model_name": "VBoxModel",
            "_view_count": null,
            "_view_module": "@jupyter-widgets/controls",
            "_view_module_version": "1.5.0",
            "_view_name": "VBoxView",
            "box_style": "",
            "children": [
              "IPY_MODEL_19980ab8495043f1b058c1cd08fbf262",
              "IPY_MODEL_e5f21851d5494484a6904bba3bd5037b",
              "IPY_MODEL_66d75d4666614bc190828ca4e464258a"
            ],
            "layout": "IPY_MODEL_af61202a3fd345e8a2a32233fee15e81"
          }
        },
        "19980ab8495043f1b058c1cd08fbf262": {
          "model_module": "@jupyter-widgets/controls",
          "model_name": "IntSliderModel",
          "model_module_version": "1.5.0",
          "state": {
            "_dom_classes": [],
            "_model_module": "@jupyter-widgets/controls",
            "_model_module_version": "1.5.0",
            "_model_name": "IntSliderModel",
            "_view_count": null,
            "_view_module": "@jupyter-widgets/controls",
            "_view_module_version": "1.5.0",
            "_view_name": "IntSliderView",
            "continuous_update": true,
            "description": "m",
            "description_tooltip": null,
            "disabled": false,
            "layout": "IPY_MODEL_bd9346223ebc48a0b2434c3bcad05417",
            "max": 9,
            "min": -9,
            "orientation": "horizontal",
            "readout": true,
            "readout_format": "d",
            "step": 1,
            "style": "IPY_MODEL_4f600e077d9f45619b1cc6de324a812c",
            "value": -7
          }
        },
        "e5f21851d5494484a6904bba3bd5037b": {
          "model_module": "@jupyter-widgets/controls",
          "model_name": "IntSliderModel",
          "model_module_version": "1.5.0",
          "state": {
            "_dom_classes": [],
            "_model_module": "@jupyter-widgets/controls",
            "_model_module_version": "1.5.0",
            "_model_name": "IntSliderModel",
            "_view_count": null,
            "_view_module": "@jupyter-widgets/controls",
            "_view_module_version": "1.5.0",
            "_view_name": "IntSliderView",
            "continuous_update": true,
            "description": "b",
            "description_tooltip": null,
            "disabled": false,
            "layout": "IPY_MODEL_97331cf0875843ad8cc8bf2f06e8b98c",
            "max": 9,
            "min": -9,
            "orientation": "horizontal",
            "readout": true,
            "readout_format": "d",
            "step": 1,
            "style": "IPY_MODEL_bc06eb28f38d45e3ab9e6089779833ba",
            "value": 5
          }
        },
        "66d75d4666614bc190828ca4e464258a": {
          "model_module": "@jupyter-widgets/output",
          "model_name": "OutputModel",
          "model_module_version": "1.0.0",
          "state": {
            "_dom_classes": [],
            "_model_module": "@jupyter-widgets/output",
            "_model_module_version": "1.0.0",
            "_model_name": "OutputModel",
            "_view_count": null,
            "_view_module": "@jupyter-widgets/output",
            "_view_module_version": "1.0.0",
            "_view_name": "OutputView",
            "layout": "IPY_MODEL_daee22d4d09c43beb4f6abb85464ff77",
            "msg_id": "",
            "outputs": [
              {
                "output_type": "display_data",
                "data": {
                  "text/plain": "<Figure size 640x480 with 1 Axes>",
                  "image/png": "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\n"
                },
                "metadata": {}
              }
            ]
          }
        },
        "af61202a3fd345e8a2a32233fee15e81": {
          "model_module": "@jupyter-widgets/base",
          "model_name": "LayoutModel",
          "model_module_version": "1.2.0",
          "state": {
            "_model_module": "@jupyter-widgets/base",
            "_model_module_version": "1.2.0",
            "_model_name": "LayoutModel",
            "_view_count": null,
            "_view_module": "@jupyter-widgets/base",
            "_view_module_version": "1.2.0",
            "_view_name": "LayoutView",
            "align_content": null,
            "align_items": null,
            "align_self": null,
            "border": null,
            "bottom": null,
            "display": null,
            "flex": null,
            "flex_flow": null,
            "grid_area": null,
            "grid_auto_columns": null,
            "grid_auto_flow": null,
            "grid_auto_rows": null,
            "grid_column": null,
            "grid_gap": null,
            "grid_row": null,
            "grid_template_areas": null,
            "grid_template_columns": null,
            "grid_template_rows": null,
            "height": null,
            "justify_content": null,
            "justify_items": null,
            "left": null,
            "margin": null,
            "max_height": null,
            "max_width": null,
            "min_height": null,
            "min_width": null,
            "object_fit": null,
            "object_position": null,
            "order": null,
            "overflow": null,
            "overflow_x": null,
            "overflow_y": null,
            "padding": null,
            "right": null,
            "top": null,
            "visibility": null,
            "width": null
          }
        },
        "bd9346223ebc48a0b2434c3bcad05417": {
          "model_module": "@jupyter-widgets/base",
          "model_name": "LayoutModel",
          "model_module_version": "1.2.0",
          "state": {
            "_model_module": "@jupyter-widgets/base",
            "_model_module_version": "1.2.0",
            "_model_name": "LayoutModel",
            "_view_count": null,
            "_view_module": "@jupyter-widgets/base",
            "_view_module_version": "1.2.0",
            "_view_name": "LayoutView",
            "align_content": null,
            "align_items": null,
            "align_self": null,
            "border": null,
            "bottom": null,
            "display": null,
            "flex": null,
            "flex_flow": null,
            "grid_area": null,
            "grid_auto_columns": null,
            "grid_auto_flow": null,
            "grid_auto_rows": null,
            "grid_column": null,
            "grid_gap": null,
            "grid_row": null,
            "grid_template_areas": null,
            "grid_template_columns": null,
            "grid_template_rows": null,
            "height": null,
            "justify_content": null,
            "justify_items": null,
            "left": null,
            "margin": null,
            "max_height": null,
            "max_width": null,
            "min_height": null,
            "min_width": null,
            "object_fit": null,
            "object_position": null,
            "order": null,
            "overflow": null,
            "overflow_x": null,
            "overflow_y": null,
            "padding": null,
            "right": null,
            "top": null,
            "visibility": null,
            "width": null
          }
        },
        "4f600e077d9f45619b1cc6de324a812c": {
          "model_module": "@jupyter-widgets/controls",
          "model_name": "SliderStyleModel",
          "model_module_version": "1.5.0",
          "state": {
            "_model_module": "@jupyter-widgets/controls",
            "_model_module_version": "1.5.0",
            "_model_name": "SliderStyleModel",
            "_view_count": null,
            "_view_module": "@jupyter-widgets/base",
            "_view_module_version": "1.2.0",
            "_view_name": "StyleView",
            "description_width": "",
            "handle_color": null
          }
        },
        "97331cf0875843ad8cc8bf2f06e8b98c": {
          "model_module": "@jupyter-widgets/base",
          "model_name": "LayoutModel",
          "model_module_version": "1.2.0",
          "state": {
            "_model_module": "@jupyter-widgets/base",
            "_model_module_version": "1.2.0",
            "_model_name": "LayoutModel",
            "_view_count": null,
            "_view_module": "@jupyter-widgets/base",
            "_view_module_version": "1.2.0",
            "_view_name": "LayoutView",
            "align_content": null,
            "align_items": null,
            "align_self": null,
            "border": null,
            "bottom": null,
            "display": null,
            "flex": null,
            "flex_flow": null,
            "grid_area": null,
            "grid_auto_columns": null,
            "grid_auto_flow": null,
            "grid_auto_rows": null,
            "grid_column": null,
            "grid_gap": null,
            "grid_row": null,
            "grid_template_areas": null,
            "grid_template_columns": null,
            "grid_template_rows": null,
            "height": null,
            "justify_content": null,
            "justify_items": null,
            "left": null,
            "margin": null,
            "max_height": null,
            "max_width": null,
            "min_height": null,
            "min_width": null,
            "object_fit": null,
            "object_position": null,
            "order": null,
            "overflow": null,
            "overflow_x": null,
            "overflow_y": null,
            "padding": null,
            "right": null,
            "top": null,
            "visibility": null,
            "width": null
          }
        },
        "bc06eb28f38d45e3ab9e6089779833ba": {
          "model_module": "@jupyter-widgets/controls",
          "model_name": "SliderStyleModel",
          "model_module_version": "1.5.0",
          "state": {
            "_model_module": "@jupyter-widgets/controls",
            "_model_module_version": "1.5.0",
            "_model_name": "SliderStyleModel",
            "_view_count": null,
            "_view_module": "@jupyter-widgets/base",
            "_view_module_version": "1.2.0",
            "_view_name": "StyleView",
            "description_width": "",
            "handle_color": null
          }
        },
        "daee22d4d09c43beb4f6abb85464ff77": {
          "model_module": "@jupyter-widgets/base",
          "model_name": "LayoutModel",
          "model_module_version": "1.2.0",
          "state": {
            "_model_module": "@jupyter-widgets/base",
            "_model_module_version": "1.2.0",
            "_model_name": "LayoutModel",
            "_view_count": null,
            "_view_module": "@jupyter-widgets/base",
            "_view_module_version": "1.2.0",
            "_view_name": "LayoutView",
            "align_content": null,
            "align_items": null,
            "align_self": null,
            "border": null,
            "bottom": null,
            "display": null,
            "flex": null,
            "flex_flow": null,
            "grid_area": null,
            "grid_auto_columns": null,
            "grid_auto_flow": null,
            "grid_auto_rows": null,
            "grid_column": null,
            "grid_gap": null,
            "grid_row": null,
            "grid_template_areas": null,
            "grid_template_columns": null,
            "grid_template_rows": null,
            "height": null,
            "justify_content": null,
            "justify_items": null,
            "left": null,
            "margin": null,
            "max_height": null,
            "max_width": null,
            "min_height": null,
            "min_width": null,
            "object_fit": null,
            "object_position": null,
            "order": null,
            "overflow": null,
            "overflow_x": null,
            "overflow_y": null,
            "padding": null,
            "right": null,
            "top": null,
            "visibility": null,
            "width": null
          }
        },
        "fba2a0f6e4614df2a56a45ff34004931": {
          "model_module": "@jupyter-widgets/controls",
          "model_name": "VBoxModel",
          "model_module_version": "1.5.0",
          "state": {
            "_dom_classes": [
              "widget-interact"
            ],
            "_model_module": "@jupyter-widgets/controls",
            "_model_module_version": "1.5.0",
            "_model_name": "VBoxModel",
            "_view_count": null,
            "_view_module": "@jupyter-widgets/controls",
            "_view_module_version": "1.5.0",
            "_view_name": "VBoxView",
            "box_style": "",
            "children": [
              "IPY_MODEL_1bcf3c8ec51a4b9fb53aec96893b1146",
              "IPY_MODEL_81d171b5f6534c5d8b5a52457697a952",
              "IPY_MODEL_3ebd869fbeff4a7f877b878191ba2239",
              "IPY_MODEL_d03a0347226342d1b4adb8d8bc8624b7"
            ],
            "layout": "IPY_MODEL_bf7846d2c4a74118a9074122dfb5d0b3"
          }
        },
        "1bcf3c8ec51a4b9fb53aec96893b1146": {
          "model_module": "@jupyter-widgets/controls",
          "model_name": "IntSliderModel",
          "model_module_version": "1.5.0",
          "state": {
            "_dom_classes": [],
            "_model_module": "@jupyter-widgets/controls",
            "_model_module_version": "1.5.0",
            "_model_name": "IntSliderModel",
            "_view_count": null,
            "_view_module": "@jupyter-widgets/controls",
            "_view_module_version": "1.5.0",
            "_view_name": "IntSliderView",
            "continuous_update": true,
            "description": "a",
            "description_tooltip": null,
            "disabled": false,
            "layout": "IPY_MODEL_021038416c1a4f3ea876b2e8a84b2724",
            "max": 9,
            "min": -9,
            "orientation": "horizontal",
            "readout": true,
            "readout_format": "d",
            "step": 1,
            "style": "IPY_MODEL_6ba536fda1bf4b3a905f6afa4e86b059",
            "value": 5
          }
        },
        "81d171b5f6534c5d8b5a52457697a952": {
          "model_module": "@jupyter-widgets/controls",
          "model_name": "IntSliderModel",
          "model_module_version": "1.5.0",
          "state": {
            "_dom_classes": [],
            "_model_module": "@jupyter-widgets/controls",
            "_model_module_version": "1.5.0",
            "_model_name": "IntSliderModel",
            "_view_count": null,
            "_view_module": "@jupyter-widgets/controls",
            "_view_module_version": "1.5.0",
            "_view_name": "IntSliderView",
            "continuous_update": true,
            "description": "b",
            "description_tooltip": null,
            "disabled": false,
            "layout": "IPY_MODEL_bf4d365fcca74ede8eeff035269b000b",
            "max": 9,
            "min": -9,
            "orientation": "horizontal",
            "readout": true,
            "readout_format": "d",
            "step": 1,
            "style": "IPY_MODEL_051a538d5d504c4faccd99eb8d66db64",
            "value": -5
          }
        },
        "3ebd869fbeff4a7f877b878191ba2239": {
          "model_module": "@jupyter-widgets/controls",
          "model_name": "IntSliderModel",
          "model_module_version": "1.5.0",
          "state": {
            "_dom_classes": [],
            "_model_module": "@jupyter-widgets/controls",
            "_model_module_version": "1.5.0",
            "_model_name": "IntSliderModel",
            "_view_count": null,
            "_view_module": "@jupyter-widgets/controls",
            "_view_module_version": "1.5.0",
            "_view_name": "IntSliderView",
            "continuous_update": true,
            "description": "c",
            "description_tooltip": null,
            "disabled": false,
            "layout": "IPY_MODEL_ca1fb86a94104a879ba1f2670264bfa7",
            "max": 9,
            "min": -9,
            "orientation": "horizontal",
            "readout": true,
            "readout_format": "d",
            "step": 1,
            "style": "IPY_MODEL_8777a8554bd0470493d02d926fc48850",
            "value": -8
          }
        },
        "d03a0347226342d1b4adb8d8bc8624b7": {
          "model_module": "@jupyter-widgets/output",
          "model_name": "OutputModel",
          "model_module_version": "1.0.0",
          "state": {
            "_dom_classes": [],
            "_model_module": "@jupyter-widgets/output",
            "_model_module_version": "1.0.0",
            "_model_name": "OutputModel",
            "_view_count": null,
            "_view_module": "@jupyter-widgets/output",
            "_view_module_version": "1.0.0",
            "_view_name": "OutputView",
            "layout": "IPY_MODEL_fe9ab568a54745028cca36e83a79122a",
            "msg_id": "",
            "outputs": [
              {
                "output_type": "display_data",
                "data": {
                  "text/plain": "<Figure size 640x480 with 1 Axes>",
                  "image/png": "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\n"
                },
                "metadata": {}
              }
            ]
          }
        },
        "bf7846d2c4a74118a9074122dfb5d0b3": {
          "model_module": "@jupyter-widgets/base",
          "model_name": "LayoutModel",
          "model_module_version": "1.2.0",
          "state": {
            "_model_module": "@jupyter-widgets/base",
            "_model_module_version": "1.2.0",
            "_model_name": "LayoutModel",
            "_view_count": null,
            "_view_module": "@jupyter-widgets/base",
            "_view_module_version": "1.2.0",
            "_view_name": "LayoutView",
            "align_content": null,
            "align_items": null,
            "align_self": null,
            "border": null,
            "bottom": null,
            "display": null,
            "flex": null,
            "flex_flow": null,
            "grid_area": null,
            "grid_auto_columns": null,
            "grid_auto_flow": null,
            "grid_auto_rows": null,
            "grid_column": null,
            "grid_gap": null,
            "grid_row": null,
            "grid_template_areas": null,
            "grid_template_columns": null,
            "grid_template_rows": null,
            "height": null,
            "justify_content": null,
            "justify_items": null,
            "left": null,
            "margin": null,
            "max_height": null,
            "max_width": null,
            "min_height": null,
            "min_width": null,
            "object_fit": null,
            "object_position": null,
            "order": null,
            "overflow": null,
            "overflow_x": null,
            "overflow_y": null,
            "padding": null,
            "right": null,
            "top": null,
            "visibility": null,
            "width": null
          }
        },
        "021038416c1a4f3ea876b2e8a84b2724": {
          "model_module": "@jupyter-widgets/base",
          "model_name": "LayoutModel",
          "model_module_version": "1.2.0",
          "state": {
            "_model_module": "@jupyter-widgets/base",
            "_model_module_version": "1.2.0",
            "_model_name": "LayoutModel",
            "_view_count": null,
            "_view_module": "@jupyter-widgets/base",
            "_view_module_version": "1.2.0",
            "_view_name": "LayoutView",
            "align_content": null,
            "align_items": null,
            "align_self": null,
            "border": null,
            "bottom": null,
            "display": null,
            "flex": null,
            "flex_flow": null,
            "grid_area": null,
            "grid_auto_columns": null,
            "grid_auto_flow": null,
            "grid_auto_rows": null,
            "grid_column": null,
            "grid_gap": null,
            "grid_row": null,
            "grid_template_areas": null,
            "grid_template_columns": null,
            "grid_template_rows": null,
            "height": null,
            "justify_content": null,
            "justify_items": null,
            "left": null,
            "margin": null,
            "max_height": null,
            "max_width": null,
            "min_height": null,
            "min_width": null,
            "object_fit": null,
            "object_position": null,
            "order": null,
            "overflow": null,
            "overflow_x": null,
            "overflow_y": null,
            "padding": null,
            "right": null,
            "top": null,
            "visibility": null,
            "width": null
          }
        },
        "6ba536fda1bf4b3a905f6afa4e86b059": {
          "model_module": "@jupyter-widgets/controls",
          "model_name": "SliderStyleModel",
          "model_module_version": "1.5.0",
          "state": {
            "_model_module": "@jupyter-widgets/controls",
            "_model_module_version": "1.5.0",
            "_model_name": "SliderStyleModel",
            "_view_count": null,
            "_view_module": "@jupyter-widgets/base",
            "_view_module_version": "1.2.0",
            "_view_name": "StyleView",
            "description_width": "",
            "handle_color": null
          }
        },
        "bf4d365fcca74ede8eeff035269b000b": {
          "model_module": "@jupyter-widgets/base",
          "model_name": "LayoutModel",
          "model_module_version": "1.2.0",
          "state": {
            "_model_module": "@jupyter-widgets/base",
            "_model_module_version": "1.2.0",
            "_model_name": "LayoutModel",
            "_view_count": null,
            "_view_module": "@jupyter-widgets/base",
            "_view_module_version": "1.2.0",
            "_view_name": "LayoutView",
            "align_content": null,
            "align_items": null,
            "align_self": null,
            "border": null,
            "bottom": null,
            "display": null,
            "flex": null,
            "flex_flow": null,
            "grid_area": null,
            "grid_auto_columns": null,
            "grid_auto_flow": null,
            "grid_auto_rows": null,
            "grid_column": null,
            "grid_gap": null,
            "grid_row": null,
            "grid_template_areas": null,
            "grid_template_columns": null,
            "grid_template_rows": null,
            "height": null,
            "justify_content": null,
            "justify_items": null,
            "left": null,
            "margin": null,
            "max_height": null,
            "max_width": null,
            "min_height": null,
            "min_width": null,
            "object_fit": null,
            "object_position": null,
            "order": null,
            "overflow": null,
            "overflow_x": null,
            "overflow_y": null,
            "padding": null,
            "right": null,
            "top": null,
            "visibility": null,
            "width": null
          }
        },
        "051a538d5d504c4faccd99eb8d66db64": {
          "model_module": "@jupyter-widgets/controls",
          "model_name": "SliderStyleModel",
          "model_module_version": "1.5.0",
          "state": {
            "_model_module": "@jupyter-widgets/controls",
            "_model_module_version": "1.5.0",
            "_model_name": "SliderStyleModel",
            "_view_count": null,
            "_view_module": "@jupyter-widgets/base",
            "_view_module_version": "1.2.0",
            "_view_name": "StyleView",
            "description_width": "",
            "handle_color": null
          }
        },
        "ca1fb86a94104a879ba1f2670264bfa7": {
          "model_module": "@jupyter-widgets/base",
          "model_name": "LayoutModel",
          "model_module_version": "1.2.0",
          "state": {
            "_model_module": "@jupyter-widgets/base",
            "_model_module_version": "1.2.0",
            "_model_name": "LayoutModel",
            "_view_count": null,
            "_view_module": "@jupyter-widgets/base",
            "_view_module_version": "1.2.0",
            "_view_name": "LayoutView",
            "align_content": null,
            "align_items": null,
            "align_self": null,
            "border": null,
            "bottom": null,
            "display": null,
            "flex": null,
            "flex_flow": null,
            "grid_area": null,
            "grid_auto_columns": null,
            "grid_auto_flow": null,
            "grid_auto_rows": null,
            "grid_column": null,
            "grid_gap": null,
            "grid_row": null,
            "grid_template_areas": null,
            "grid_template_columns": null,
            "grid_template_rows": null,
            "height": null,
            "justify_content": null,
            "justify_items": null,
            "left": null,
            "margin": null,
            "max_height": null,
            "max_width": null,
            "min_height": null,
            "min_width": null,
            "object_fit": null,
            "object_position": null,
            "order": null,
            "overflow": null,
            "overflow_x": null,
            "overflow_y": null,
            "padding": null,
            "right": null,
            "top": null,
            "visibility": null,
            "width": null
          }
        },
        "8777a8554bd0470493d02d926fc48850": {
          "model_module": "@jupyter-widgets/controls",
          "model_name": "SliderStyleModel",
          "model_module_version": "1.5.0",
          "state": {
            "_model_module": "@jupyter-widgets/controls",
            "_model_module_version": "1.5.0",
            "_model_name": "SliderStyleModel",
            "_view_count": null,
            "_view_module": "@jupyter-widgets/base",
            "_view_module_version": "1.2.0",
            "_view_name": "StyleView",
            "description_width": "",
            "handle_color": null
          }
        },
        "fe9ab568a54745028cca36e83a79122a": {
          "model_module": "@jupyter-widgets/base",
          "model_name": "LayoutModel",
          "model_module_version": "1.2.0",
          "state": {
            "_model_module": "@jupyter-widgets/base",
            "_model_module_version": "1.2.0",
            "_model_name": "LayoutModel",
            "_view_count": null,
            "_view_module": "@jupyter-widgets/base",
            "_view_module_version": "1.2.0",
            "_view_name": "LayoutView",
            "align_content": null,
            "align_items": null,
            "align_self": null,
            "border": null,
            "bottom": null,
            "display": null,
            "flex": null,
            "flex_flow": null,
            "grid_area": null,
            "grid_auto_columns": null,
            "grid_auto_flow": null,
            "grid_auto_rows": null,
            "grid_column": null,
            "grid_gap": null,
            "grid_row": null,
            "grid_template_areas": null,
            "grid_template_columns": null,
            "grid_template_rows": null,
            "height": null,
            "justify_content": null,
            "justify_items": null,
            "left": null,
            "margin": null,
            "max_height": null,
            "max_width": null,
            "min_height": null,
            "min_width": null,
            "object_fit": null,
            "object_position": null,
            "order": null,
            "overflow": null,
            "overflow_x": null,
            "overflow_y": null,
            "padding": null,
            "right": null,
            "top": null,
            "visibility": null,
            "width": null
          }
        }
      }
    }
  },
  "cells": [
    {
      "cell_type": "markdown",
      "metadata": {
        "id": "EsfO5Q92tL-6"
      },
      "source": [
        "[![freeCodeCamp](https://cdn.freecodecamp.org/testable-projects-fcc/images/fcc_secondary.svg)](https://freecodecamp.org/)"
      ]
    },
    {
      "cell_type": "markdown",
      "metadata": {
        "id": "7ECUmRBSGOb4"
      },
      "source": [
        "**Learn Foundational Math 2 by Building Cartesian Graphs**<br>\n",
        "Each of these steps will lead you toward the Certification Project. Once you complete a step, click to expand the next step."
      ]
    },
    {
      "cell_type": "markdown",
      "metadata": {
        "id": "szp5flp1fA8-"
      },
      "source": [
        "# &darr; **Do this first** &darr;\n",
        "Copy this notebook to your own account by clicking the `File` button at the top, and then click `Save a copy in Drive`. You will need to be logged in to Google. The file will be in a folder called \"Colab Notebooks\" in your Google Drive."
      ]
    },
    {
      "cell_type": "markdown",
      "source": [
        "# Step 0 - Acquire the testing library"
      ],
      "metadata": {
        "id": "iNcDJ45bGtYk"
      }
    },
    {
      "cell_type": "markdown",
      "source": [
        "Please run this code to get the library file from FreeCodeCamp. Each step will use this library to test your code. You do not need to edit anything; just run this code cell and wait a few seconds until it tells you to go on to the next step."
      ],
      "metadata": {
        "id": "2_U7sdv4zaww"
      }
    },
    {
      "cell_type": "code",
      "source": [
        "# You may need to run this cell at the beginning of each new session\n",
        "\n",
        "!pip install requests\n",
        "\n",
        "# This will just take a few seconds\n",
        "\n",
        "import requests\n",
        "\n",
        "# Get the library from GitHub\n",
        "url = 'https://raw.githubusercontent.com/edatfreecodecamp/python-math/main/math-code-test-b.py'\n",
        "r = requests.get(url)\n",
        "\n",
        "# Save the library in a local working directory\n",
        "with open('math_code_test_b.py', 'w') as f:\n",
        "    f.write(r.text)\n",
        "\n",
        "# Now you can import the library\n",
        "import math_code_test_b as test\n",
        "\n",
        "# This will tell you if the code works\n",
        "test.step01()"
      ],
      "metadata": {
        "id": "aDuDRHETG3Oy",
        "outputId": "993d82ac-6685-41fa-c51a-205f58efac19",
        "colab": {
          "base_uri": "https://localhost:8080/"
        }
      },
      "execution_count": 1,
      "outputs": [
        {
          "output_type": "stream",
          "name": "stdout",
          "text": [
            "Requirement already satisfied: requests in /usr/local/lib/python3.10/dist-packages (2.32.3)\n",
            "Requirement already satisfied: charset-normalizer<4,>=2 in /usr/local/lib/python3.10/dist-packages (from requests) (3.4.0)\n",
            "Requirement already satisfied: idna<4,>=2.5 in /usr/local/lib/python3.10/dist-packages (from requests) (3.10)\n",
            "Requirement already satisfied: urllib3<3,>=1.21.1 in /usr/local/lib/python3.10/dist-packages (from requests) (2.2.3)\n",
            "Requirement already satisfied: certifi>=2017.4.17 in /usr/local/lib/python3.10/dist-packages (from requests) (2024.12.14)\n",
            "Code test Passed\n",
            "Go on to the next step\n"
          ]
        }
      ]
    },
    {
      "cell_type": "markdown",
      "metadata": {
        "id": "ZWDxpIPUFfda"
      },
      "source": [
        "# Step 1 - Cartesian Coordinates"
      ]
    },
    {
      "cell_type": "markdown",
      "metadata": {
        "id": "eTWzFpChFltm"
      },
      "source": [
        "Learn Cartesian coordinates by building a scatterplot game. The Cartesian plane is the classic x-y coordinate grid (invented by Ren$\\acute{e}$ DesCartes) where \"<i>x</i>\" is the horizontal axis and \"<i>y</i>\" is the vertical axis. Each (x,y) coordinate pair is a point on the graph. The point (0,0) is the \"origin.\" The x value tells how much to move right (positive) or left (negative) from the origin. The y value tells you how much you move up (positive) or down (negative) from the origin. Notice that you are importing `matplotlib` to create the graph. The following code just displays one quadrant of the Cartesian graph. Just run this code to see how Python displays a graph.\n"
      ]
    },
    {
      "cell_type": "code",
      "metadata": {
        "id": "OGdjnZw0Fmf7",
        "outputId": "7453b00c-4834-407f-d7fa-215cad738811",
        "colab": {
          "base_uri": "https://localhost:8080/",
          "height": 470
        }
      },
      "source": [
        "import matplotlib.pyplot as plt\n",
        "\n",
        "fig, ax = plt.subplots()\n",
        "plt.show()\n",
        "\n",
        "# Just run this code to see a blank graph\n",
        "import math_code_test_b as test\n",
        "test.step01()"
      ],
      "execution_count": 2,
      "outputs": [
        {
          "output_type": "display_data",
          "data": {
            "text/plain": [
              "<Figure size 640x480 with 1 Axes>"
            ],
            "image/png": "[encoded data removed]"
          },
          "metadata": {}
        },
        {
          "output_type": "stream",
          "name": "stdout",
          "text": [
            "Code test Passed\n",
            "Go on to the next step\n"
          ]
        }
      ]
    },
    {
      "cell_type": "markdown",
      "metadata": {
        "id": "i1mBd8gGFvBV"
      },
      "source": [
        "# Step 2 - Cartesian Coordinates (Part 2)"
      ]
    },
    {
      "cell_type": "markdown",
      "metadata": {
        "id": "aylg20IGFvBW"
      },
      "source": [
        "Here you will create a standard window but still not highlight each axis. Run this code once, then change the window size to 20 in each direction and run it again."
      ]
    },
    {
      "cell_type": "code",
      "metadata": {
        "id": "EKfFo4_EFvBX",
        "outputId": "674672e8-40cc-415f-dbf1-02c5b110c47a",
        "colab": {
          "base_uri": "https://localhost:8080/",
          "height": 487
        }
      },
      "source": [
        "import matplotlib.pyplot as plt\n",
        "\n",
        "fig, ax = plt.subplots()\n",
        "\n",
        "# Only change the numbers in the next line:\n",
        "plt.axis([-20,20,-20,20])\n",
        "\n",
        "plt.show()\n",
        "\n",
        "\n",
        "# Only change code above this line\n",
        "import math_code_test_b as test\n",
        "test.step02(In[-1].split('# Only change code above this line')[0])"
      ],
      "execution_count": 4,
      "outputs": [
        {
          "output_type": "display_data",
          "data": {
            "text/plain": [
              "<Figure size 640x480 with 1 Axes>"
            ],
            "image/png": "[encoded data removed]"
          },
          "metadata": {}
        },
        {
          "output_type": "stream",
          "name": "stdout",
          "text": [
            " \n",
            "Code test passed\n",
            "Go on to the next step\n"
          ]
        }
      ]
    },
    {
      "cell_type": "markdown",
      "source": [
        "# Step 3 - Graph Dimensions"
      ],
      "metadata": {
        "id": "MYQL57cD2ejS"
      }
    },
    {
      "cell_type": "markdown",
      "source": [
        "When you look at this code, you can see how Python sets up window dimensions. You will also notice that it is easier and more organized to define the dimensions as variables. Run the code, then change just the `xmax` value to 20 and run it again to see the difference."
      ],
      "metadata": {
        "id": "b2k229tOz9YQ"
      }
    },
    {
      "cell_type": "code",
      "source": [
        "import matplotlib.pyplot as plt\n",
        "\n",
        "xmin = -10\n",
        "xmax = 20\n",
        "ymin = -10\n",
        "ymax = 10\n",
        "\n",
        "fig, ax = plt.subplots()\n",
        "plt.axis([xmin,xmax,ymin,ymax]) # window size\n",
        "plt.show()\n",
        "\n",
        "# Only change code above this line\n",
        "import math_code_test_b as test\n",
        "test.step03(In[-1].split('# Only change code above this line')[0])"
      ],
      "metadata": {
        "id": "uXvHo-5a2Zi_",
        "outputId": "e71b6b1d-9b6d-498d-f987-d8e46c136e1b",
        "colab": {
          "base_uri": "https://localhost:8080/",
          "height": 487
        }
      },
      "execution_count": 6,
      "outputs": [
        {
          "output_type": "display_data",
          "data": {
            "text/plain": [
              "<Figure size 640x480 with 1 Axes>"
            ],
            "image/png": "[encoded data removed]"
          },
          "metadata": {}
        },
        {
          "output_type": "stream",
          "name": "stdout",
          "text": [
            " \n",
            "Code test passed\n",
            "Go on to the next step\n"
          ]
        }
      ]
    },
    {
      "cell_type": "markdown",
      "source": [
        "# Step 4 - Displaying Axis Lines"
      ],
      "metadata": {
        "id": "jIHKROStFMcR"
      }
    },
    {
      "cell_type": "markdown",
      "source": [
        "Notice the code to `plot` a line for the x axis and a line for the y axis. The `'b'` makes the line blue. Run the code, then change each 'b' to 'g' to make the lines green."
      ],
      "metadata": {
        "id": "NhrHvY1YEndp"
      }
    },
    {
      "cell_type": "code",
      "source": [
        "import matplotlib.pyplot as plt\n",
        "\n",
        "xmin = -10\n",
        "xmax = 10\n",
        "ymin = -10\n",
        "ymax = 10\n",
        "\n",
        "fig, ax = plt.subplots()\n",
        "plt.axis([xmin,xmax,ymin,ymax]) # window size\n",
        "plt.plot([xmin,xmax],[0,0],'g') # blue x axis\n",
        "plt.plot([0,0],[ymin,ymax], 'g') # blue y axis\n",
        "\n",
        "plt.show()\n",
        "\n",
        "# Only change code above this line\n",
        "import math_code_test_b as test\n",
        "test.step04(In[-1].split('# Only change code above this line')[0])"
      ],
      "metadata": {
        "id": "mgWhRLtwFGOd",
        "outputId": "3271d527-9d52-4e83-d4a0-4b71b887f733",
        "colab": {
          "base_uri": "https://localhost:8080/",
          "height": 487
        }
      },
      "execution_count": 8,
      "outputs": [
        {
          "output_type": "display_data",
          "data": {
            "text/plain": [
              "<Figure size 640x480 with 1 Axes>"
            ],
            "image/png": "[encoded data removed]"
          },
          "metadata": {}
        },
        {
          "output_type": "stream",
          "name": "stdout",
          "text": [
            " \n",
            "Code test passed\n",
            "Go on to the next step\n"
          ]
        }
      ]
    },
    {
      "cell_type": "markdown",
      "metadata": {
        "id": "wLDO_IRrFw7z"
      },
      "source": [
        "# Step 5 - Plotting a Point"
      ]
    },
    {
      "cell_type": "markdown",
      "metadata": {
        "id": "iOZ8TJISFw71"
      },
      "source": [
        "Now you will plot a point on the graph. Notice the `'ro'` makes the point a red dot. Run the code, then change the location of the point to (-5,1) and run it again. Keep the window size the same. Notice the difference between plotting a point and plotting a line."
      ]
    },
    {
      "cell_type": "code",
      "metadata": {
        "id": "N09NlV3DFw71",
        "outputId": "130fcbcb-2363-4fb7-ebb5-850785f22af1",
        "colab": {
          "base_uri": "https://localhost:8080/",
          "height": 487
        }
      },
      "source": [
        "import matplotlib.pyplot as plt\n",
        "\n",
        "xmin = -10\n",
        "xmax = 10\n",
        "ymin = -10\n",
        "ymax = 10\n",
        "\n",
        "fig, ax = plt.subplots()\n",
        "plt.axis([xmin,xmax,ymin,ymax]) # window size\n",
        "plt.plot([xmin,xmax],[0,0],'b') # blue x axis\n",
        "plt.plot([0,0],[ymin,ymax], 'b') # blue y axis\n",
        "\n",
        "# Change only the numbers in the following line:\n",
        "plt.plot([-5],[1], 'ro')\n",
        "\n",
        "plt.show()\n",
        "\n",
        "\n",
        "# Only change code above this line\n",
        "import math_code_test_b as test\n",
        "test.step05(In[-1].split('# Only change code above this line')[0])"
      ],
      "execution_count": 10,
      "outputs": [
        {
          "output_type": "display_data",
          "data": {
            "text/plain": [
              "<Figure size 640x480 with 1 Axes>"
            ],
            "image/png": "[encoded data removed]"
          },
          "metadata": {}
        },
        {
          "output_type": "stream",
          "name": "stdout",
          "text": [
            " \n",
            "Code test passed\n",
            "Go on to the next step\n"
          ]
        }
      ]
    },
    {
      "cell_type": "markdown",
      "metadata": {
        "id": "ExVB2joZF0rk"
      },
      "source": [
        "# Step 6 - Plotting Several Points"
      ]
    },
    {
      "cell_type": "markdown",
      "metadata": {
        "id": "G48kO0jcF0rl"
      },
      "source": [
        "You have actually been using arrays to plot each singular point so far. In this step, you will see an array of x values and an array of y values defined before the plot statement. Notice that these two short arrays create one point: (4,2). Add two numbers to each array so that it also plots points (1,1) and (2,5)."
      ]
    },
    {
      "cell_type": "code",
      "metadata": {
        "id": "YkRIMNimF0rm",
        "outputId": "522a4af6-3194-4b57-85b8-6e944fb899d5",
        "colab": {
          "base_uri": "https://localhost:8080/",
          "height": 487
        }
      },
      "source": [
        "import matplotlib.pyplot as plt\n",
        "\n",
        "# only change the next two lines:\n",
        "x = [4,1,2]\n",
        "y = [2,1,5]\n",
        "\n",
        "# Only change code above this line\n",
        "\n",
        "xmin = -10\n",
        "xmax = 10\n",
        "ymin = -10\n",
        "ymax = 10\n",
        "\n",
        "fig, ax = plt.subplots()\n",
        "plt.axis([xmin,xmax,ymin,ymax]) # window size\n",
        "plt.plot([xmin,xmax],[0,0],'b') # blue x axis\n",
        "plt.plot([0,0],[ymin,ymax],'b') # blue y axis\n",
        "\n",
        "plt.plot(x, y, 'ro') # red points\n",
        "plt.show()\n",
        "\n",
        "\n",
        "# Only change code above this line\n",
        "import math_code_test_b as test\n",
        "test.step06(In[-1].split('# Only change code above this line')[0])"
      ],
      "execution_count": 12,
      "outputs": [
        {
          "output_type": "display_data",
          "data": {
            "text/plain": [
              "<Figure size 640x480 with 1 Axes>"
            ],
            "image/png": "[encoded data removed]"
          },
          "metadata": {}
        },
        {
          "output_type": "stream",
          "name": "stdout",
          "text": [
            " \n",
            "Code test passed\n",
            "Go on to the next step\n"
          ]
        }
      ]
    },
    {
      "cell_type": "markdown",
      "metadata": {
        "id": "3MqIpFTOF1m9"
      },
      "source": [
        "# Step 7 - Plotting Points and Lines"
      ]
    },
    {
      "cell_type": "markdown",
      "metadata": {
        "id": "1O1_p4BqF1m-"
      },
      "source": [
        "Notice the subtle difference between plotting points and lines. Each `plot()` statement takes an array of x values, an array of y values, and a third argument to tell what you are plotting. The default plot is a line. The letters `'r'` and `'b'` (and `'g'` and a few others) indicate common colors. The \"o\" in `'ro'` indicates a dot, where `'rs'` would indicate a red square and `'r^'` would indicate a red triangle. Plot a red line and two green squares."
      ]
    },
    {
      "cell_type": "code",
      "metadata": {
        "id": "oMRcOD7hF1m-",
        "outputId": "96b0222b-21c3-461d-cf18-e00b864c23b7",
        "colab": {
          "base_uri": "https://localhost:8080/",
          "height": 487
        }
      },
      "source": [
        "import matplotlib.pyplot as plt\n",
        "\n",
        "# Use these numbers:\n",
        "linex = [2,4]\n",
        "liney = [1,5]\n",
        "pointx = [1,6]\n",
        "pointy = [6,3]\n",
        "\n",
        "# Keep these lines:\n",
        "xmin = -10\n",
        "xmax = 10\n",
        "ymin = -10\n",
        "ymax = 10\n",
        "\n",
        "fig, ax = plt.subplots()\n",
        "plt.axis([xmin,xmax,ymin,ymax]) # window size\n",
        "plt.plot([xmin,xmax],[0,0],'b') # blue x axis\n",
        "plt.plot([0,0],[ymin,ymax], 'b') # blue y axis\n",
        "\n",
        "# Change the next two lines:\n",
        "plt.plot(linex, liney, 'r')\n",
        "plt.plot(pointx, pointy, 'gs')\n",
        "\n",
        "plt.show()\n",
        "\n",
        "\n",
        "# Only change code above this line\n",
        "import math_code_test_b as test\n",
        "test.step07(In[-1].split('# Only change code above this line')[0])"
      ],
      "execution_count": 14,
      "outputs": [
        {
          "output_type": "display_data",
          "data": {
            "text/plain": [
              "<Figure size 640x480 with 1 Axes>"
            ],
            "image/png": "[encoded data removed]"
          },
          "metadata": {}
        },
        {
          "output_type": "stream",
          "name": "stdout",
          "text": [
            " \n",
            "Code test passed\n",
            "Go on to the next step\n"
          ]
        }
      ]
    },
    {
      "cell_type": "markdown",
      "metadata": {
        "id": "NKq_qwCsF3Dj"
      },
      "source": [
        "# Step 8 - Making a Scatterplot Game"
      ]
    },
    {
      "cell_type": "markdown",
      "metadata": {
        "id": "sBh-rNyOF3Dk"
      },
      "source": [
        "To make the game, you can make a loop that plots a random point and asks the user to input the (x,y) coordinates. Notice the `for` loop that runs three rounds of the game. Run the code, play the game, then you can go on to the next step."
      ]
    },
    {
      "cell_type": "code",
      "metadata": {
        "id": "uR5TFWbLF3Dk",
        "outputId": "312ddea3-fbb2-4b40-99e8-76b1d16b0e0e",
        "colab": {
          "base_uri": "https://localhost:8080/",
          "height": 1000
        }
      },
      "source": [
        "import matplotlib.pyplot as plt\n",
        "import random\n",
        "\n",
        "score = 0\n",
        "\n",
        "xmin = -8\n",
        "xmax = 8\n",
        "ymin = -8\n",
        "ymax = 8\n",
        "\n",
        "fig, ax = plt.subplots()\n",
        "\n",
        "for i in range(0,3):\n",
        "    xpoint = random.randint(xmin, xmax)\n",
        "    ypoint = random.randint(ymin, ymax)\n",
        "    x = [xpoint]\n",
        "    y = [ypoint]\n",
        "    plt.axis([xmin,xmax,ymin,ymax]) # window size\n",
        "    plt.plot([xmin,xmax],[0,0],'b') # blue x axis\n",
        "    plt.plot([0,0],[ymin,ymax], 'b') # blue y axis\n",
        "    plt.plot(x, y, 'ro')\n",
        "    print(\" \")\n",
        "    plt.grid() # displays grid lines on graph\n",
        "    plt.show()\n",
        "    guess = input(\"Enter the coordinates of the red point point: \\n\")\n",
        "    guess_array = guess.split(\",\")\n",
        "    xguess = int(guess_array[0])\n",
        "    yguess = int(guess_array[1])\n",
        "    if xguess == xpoint and yguess == ypoint:\n",
        "        score = score + 1\n",
        "\n",
        "print(\"Your score: \", score) # notice this is not in the loop\n",
        "\n",
        "\n",
        "# Only change code above this line\n",
        "import math_code_test_b as test\n",
        "test.step08(score)"
      ],
      "execution_count": 17,
      "outputs": [
        {
          "output_type": "stream",
          "name": "stdout",
          "text": [
            " \n"
          ]
        },
        {
          "output_type": "display_data",
          "data": {
            "text/plain": [
              "<Figure size 640x480 with 1 Axes>"
            ],
            "image/png": "[encoded data removed]"
          },
          "metadata": {}
        },
        {
          "output_type": "stream",
          "name": "stdout",
          "text": [
            "Enter the coordinates of the red point point: \n",
            "-2,1\n",
            " \n"
          ]
        },
        {
          "output_type": "display_data",
          "data": {
            "text/plain": [
              "<Figure size 640x480 with 1 Axes>"
            ],
            "image/png": "[encoded data removed]"
          },
          "metadata": {}
        },
        {
          "output_type": "stream",
          "name": "stdout",
          "text": [
            "Enter the coordinates of the red point point: \n",
            "1,-6\n",
            " \n"
          ]
        },
        {
          "output_type": "display_data",
          "data": {
            "text/plain": [
              "<Figure size 640x480 with 1 Axes>"
            ],
            "image/png": "[encoded data removed]"
          },
          "metadata": {}
        },
        {
          "output_type": "stream",
          "name": "stdout",
          "text": [
            "Enter the coordinates of the red point point: \n",
            "-5,4\n",
            "Your score:  3\n",
            "You scored 3 out of 3. Good job!\n",
            "You can go on to the next step\n"
          ]
        }
      ]
    },
    {
      "cell_type": "markdown",
      "metadata": {
        "id": "wvdngkOTF4Hi"
      },
      "source": [
        "# Step 9 - Graphing Linear Equations"
      ]
    },
    {
      "cell_type": "markdown",
      "metadata": {
        "id": "fTzBZAmtF4Hj"
      },
      "source": [
        "Besides graphing points, you can graph <i>linear equations</i> (or <i>functions</i>). The graph will be a straight line, and the equation will not have any exponents. For these graphs, you will import `numpy` and use the `linspace()` function to define the x values. That function takes three arguments: starting number, ending number, and number of steps. Notice the `plot()` function only has two arguments: the x values and a function (y = 2x - 3) for the y values. Run this code, then use the same x values to graph `y = -x + 3`."
      ]
    },
    {
      "cell_type": "code",
      "metadata": {
        "id": "xJ0pkcFsF4Hj",
        "outputId": "a827421a-2bbb-474b-98be-c41b153835fb",
        "colab": {
          "base_uri": "https://localhost:8080/",
          "height": 487
        }
      },
      "source": [
        "import matplotlib.pyplot as plt\n",
        "import numpy as np\n",
        "\n",
        "xmin = -10\n",
        "xmax = 10\n",
        "ymin = -10\n",
        "ymax = 10\n",
        "\n",
        "fig, ax = plt.subplots()\n",
        "plt.axis([xmin,xmax,ymin,ymax]) # window size\n",
        "plt.plot([xmin,xmax],[0,0],'b') # blue x axis\n",
        "plt.plot([0,0],[ymin,ymax], 'b') # blue y axis\n",
        "\n",
        "x = np.linspace(-9,9,36)\n",
        "\n",
        "# Only change the next line to graph y = -x + 3\n",
        "plt.plot(x, -x+3)\n",
        "\n",
        "\n",
        "\n",
        "plt.show()\n",
        "\n",
        "\n",
        "# Only change code above this line\n",
        "import math_code_test_b as test\n",
        "test.step09(In[-1].split('# Only change code above this line')[0])"
      ],
      "execution_count": 19,
      "outputs": [
        {
          "output_type": "display_data",
          "data": {
            "text/plain": [
              "<Figure size 640x480 with 1 Axes>"
            ],
            "image/png": "[encoded data removed]"
          },
          "metadata": {}
        },
        {
          "output_type": "stream",
          "name": "stdout",
          "text": [
            " \n",
            "Code test passed\n",
            "Go on to the next step\n"
          ]
        }
      ]
    },
    {
      "cell_type": "markdown",
      "metadata": {
        "id": "Q19Wm90DF5zf"
      },
      "source": [
        "# Step 10 - Creating Interactive Graphs"
      ]
    },
    {
      "cell_type": "markdown",
      "metadata": {
        "id": "JNEjD9DxF5zh"
      },
      "source": [
        "Like the previous graphs, you will graph a line. This time, you will create two sliders to change the <i>slope</i> and the <i>y intecept</i>. Notice the additional imports and other changes: You define a function with two arguments. All of the graphing happens within that `f(m,b)` function. The `interactive()` function calls your defined function and sets the boundaries for the sliders. Run this code then adjust the sliders and notice how they affect the graph."
      ]
    },
    {
      "cell_type": "code",
      "metadata": {
        "id": "9lh41CENF5zh",
        "outputId": "bab46fba-bbd5-4c0f-bd00-c250d5bfb641",
        "colab": {
          "base_uri": "https://localhost:8080/",
          "height": 551,
          "referenced_widgets": [
            "49c9447b39b4455494ac9af5e7c34ea6",
            "19980ab8495043f1b058c1cd08fbf262",
            "e5f21851d5494484a6904bba3bd5037b",
            "66d75d4666614bc190828ca4e464258a",
            "af61202a3fd345e8a2a32233fee15e81",
            "bd9346223ebc48a0b2434c3bcad05417",
            "4f600e077d9f45619b1cc6de324a812c",
            "97331cf0875843ad8cc8bf2f06e8b98c",
            "bc06eb28f38d45e3ab9e6089779833ba",
            "daee22d4d09c43beb4f6abb85464ff77"
          ]
        }
      },
      "source": [
        "%matplotlib inline\n",
        "from ipywidgets import interactive\n",
        "import matplotlib.pyplot as plt\n",
        "import numpy as np\n",
        "\n",
        "# Define the graphing function\n",
        "def f(m, b):\n",
        "    xmin = -10\n",
        "    xmax = 10\n",
        "    ymin = -10\n",
        "    ymax = 10\n",
        "    plt.axis([xmin,xmax,ymin,ymax]) # window size\n",
        "    plt.plot([xmin,xmax],[0,0],'black') # black x axis\n",
        "    plt.plot([0,0],[ymin,ymax], 'black') # black y axis\n",
        "    plt.title('y = mx + b')\n",
        "    x = np.linspace(-10, 10, 1000)\n",
        "    plt.plot(x, m*x+b)\n",
        "    plt.show()\n",
        "\n",
        "# Set up the sliders\n",
        "interactive_plot = interactive(f, m=(-9, 9), b=(-9, 9))\n",
        "interactive_plot\n",
        "\n",
        "\n",
        "# Just run this code and use the sliders\n",
        "import math_code_test_b as test\n",
        "test.step01()\n",
        "interactive_plot"
      ],
      "execution_count": 20,
      "outputs": [
        {
          "output_type": "stream",
          "name": "stdout",
          "text": [
            "Code test Passed\n",
            "Go on to the next step\n"
          ]
        },
        {
          "output_type": "display_data",
          "data": {
            "text/plain": [
              "interactive(children=(IntSlider(value=0, description='m', max=9, min=-9), IntSlider(value=0, description='b', …"
            ],
            "application/vnd.jupyter.widget-view+json": {
              "version_major": 2,
              "version_minor": 0,
              "model_id": "49c9447b39b4455494ac9af5e7c34ea6"
            }
          },
          "metadata": {}
        }
      ]
    },
    {
      "cell_type": "markdown",
      "metadata": {
        "id": "YSY2k7S3F6d7"
      },
      "source": [
        "# Step 11 - Graphing Systems"
      ]
    },
    {
      "cell_type": "markdown",
      "metadata": {
        "id": "8MG28-VPF6d8"
      },
      "source": [
        "When you graph two equations on the same coordinate plane, they are a <i>system of equations</i>. Notice how the `points` variable defines the number of points and the `linspace()` function uses that variable. Run this code to see the graph, then change `y2` so that it graphs y = -x - 3."
      ]
    },
    {
      "cell_type": "code",
      "metadata": {
        "id": "wYHGm-PAF6d9",
        "outputId": "24fe767a-ca97-4398-9b4e-18d093342ea3",
        "colab": {
          "base_uri": "https://localhost:8080/",
          "height": 487
        }
      },
      "source": [
        "import matplotlib.pyplot as plt\n",
        "import numpy as np\n",
        "\n",
        "\n",
        "xmin = -10\n",
        "xmax = 10\n",
        "ymin = -10\n",
        "ymax = 10\n",
        "points = 2*(xmax-xmin)\n",
        "\n",
        "# Define the x values once\n",
        "x = np.linspace(xmin,xmax,points)\n",
        "\n",
        "fig, ax = plt.subplots()\n",
        "plt.axis([xmin,xmax,ymin,ymax]) # window size\n",
        "plt.plot([xmin,xmax],[0,0],'b') # blue x axis\n",
        "plt.plot([0,0],[ymin,ymax], 'b') # blue y axis\n",
        "\n",
        "# line 1\n",
        "y1 = 2*x\n",
        "plt.plot(x, y1)\n",
        "\n",
        "# line 2\n",
        "y2 = -x -3\n",
        "plt.plot(x, y2)\n",
        "\n",
        "plt.show()\n",
        "\n",
        "\n",
        "# Only change code above this line\n",
        "import math_code_test_b as test\n",
        "test.step11(In[-1].split('# Only change code above this line')[0])"
      ],
      "execution_count": 22,
      "outputs": [
        {
          "output_type": "display_data",
          "data": {
            "text/plain": [
              "<Figure size 640x480 with 1 Axes>"
            ],
            "image/png": "[encoded data removed]"
          },
          "metadata": {}
        },
        {
          "output_type": "stream",
          "name": "stdout",
          "text": [
            " \n",
            "Code test passed\n",
            "Go on to the next step\n"
          ]
        }
      ]
    },
    {
      "cell_type": "markdown",
      "metadata": {
        "id": "ykj42UNeF7K5"
      },
      "source": [
        "# Step 12 - Systems of Equations - Algebra"
      ]
    },
    {
      "cell_type": "markdown",
      "metadata": {
        "id": "n_-rpo6nF7K7"
      },
      "source": [
        "In a system of equations, the solution is the point where the two equations intersect, the (x,y) values that work in each equation. To work with algabraic expressions, you will import `sympy` and define x and y as symbols. If you have two equations and two variables, set each equation equal to zero. The `linsolve()` function takes the non-zero side of each equation and the variables used. Notice the syntax. Run the code, then change the two equations to solve 2x + y - 15 = 0 and 3x - y = 0."
      ]
    },
    {
      "cell_type": "code",
      "metadata": {
        "id": "6dFzZfqRF7K7",
        "outputId": "002dfa85-2ed8-4f89-ee11-2d687e0479c4",
        "colab": {
          "base_uri": "https://localhost:8080/"
        }
      },
      "source": [
        "from sympy import *\n",
        "x,y = symbols('x y')\n",
        "\n",
        "\n",
        "# Change the equations in the following line:\n",
        "print(linsolve([2*x + y - 15, 3*x - y], (x, y)))\n",
        "\n",
        "\n",
        "# Only change code above this line\n",
        "import math_code_test_b as test\n",
        "test.step12(In[-1].split('# Only change code above this line')[0])"
      ],
      "execution_count": 24,
      "outputs": [
        {
          "output_type": "stream",
          "name": "stdout",
          "text": [
            "{(3, 9)}\n",
            " \n",
            "Code test passed\n",
            "Go on to the next step\n"
          ]
        }
      ]
    },
    {
      "cell_type": "markdown",
      "source": [
        "# Step 13 - Solutions as Coordinates"
      ],
      "metadata": {
        "id": "QSKeBTgXHRAv"
      }
    },
    {
      "cell_type": "markdown",
      "source": [
        "The `linsolve()` function returns a <i>finite set</i>, and you can convert that \"finite set\" into (x,y) coordinates. Notice how the code parses the `solution` variable into two separate variables. Just run the code to see how this works."
      ],
      "metadata": {
        "id": "D2Ca3L-fHCzi"
      }
    },
    {
      "cell_type": "code",
      "source": [
        "from sympy import *\n",
        "x,y = symbols('x y')\n",
        "\n",
        "# Use variables for each equation\n",
        "first = x + y\n",
        "second = x - y\n",
        "\n",
        "# parse finite set answer as coordinate pair\n",
        "solution = linsolve([first, second], (x, y))\n",
        "x_solution = solution.args[0][0]\n",
        "y_solution = solution.args[0][1]\n",
        "\n",
        "print(\"x = \", x_solution)\n",
        "print(\"y = \", y_solution)\n",
        "print(\" \")\n",
        "print(\"Solution: (\",x_solution,\",\",y_solution,\")\")\n",
        "\n",
        "\n",
        "# Just run this code\n",
        "import math_code_test_b as test\n",
        "test.step01()"
      ],
      "metadata": {
        "id": "7uhBD85SHK3S",
        "outputId": "6476e789-641e-4243-adb9-011bd649b66e",
        "colab": {
          "base_uri": "https://localhost:8080/"
        }
      },
      "execution_count": 25,
      "outputs": [
        {
          "output_type": "stream",
          "name": "stdout",
          "text": [
            "x =  0\n",
            "y =  0\n",
            " \n",
            "Solution: ( 0 , 0 )\n",
            "Code test Passed\n",
            "Go on to the next step\n"
          ]
        }
      ]
    },
    {
      "cell_type": "markdown",
      "metadata": {
        "id": "0epVLhL0F88U"
      },
      "source": [
        "# Step 14 - Systems from User Input"
      ]
    },
    {
      "cell_type": "markdown",
      "metadata": {
        "id": "VhoI5uNrF88V"
      },
      "source": [
        "For more flexibility, you can get each equation as user input (instead of defining them in the code). Run this code and try it out - to solve any system of two equations."
      ]
    },
    {
      "cell_type": "code",
      "metadata": {
        "id": "8irtXhucF88W",
        "outputId": "43ac6a9d-f7d2-47c3-8717-e369af1a3d14",
        "colab": {
          "base_uri": "https://localhost:8080/"
        }
      },
      "source": [
        "from sympy import *\n",
        "\n",
        "x,y = symbols('x y')\n",
        "print(\"Remember to use Python syntax with x and y as variables\")\n",
        "print(\"Notice how each equation is already set equal to zero\")\n",
        "first = input(\"Enter the first equation: 0 = \")\n",
        "second = input(\"Enter the second equation: 0 = \")\n",
        "solution = linsolve([first, second], (x, y))\n",
        "x_solution = solution.args[0][0]\n",
        "y_solution = solution.args[0][1]\n",
        "\n",
        "print(\"x = \", x_solution)\n",
        "print(\"y = \", y_solution)\n",
        "\n",
        "\n",
        "# Just run this code and test it with different equations\n",
        "import math_code_test_b as test\n",
        "test.step14()"
      ],
      "execution_count": 29,
      "outputs": [
        {
          "output_type": "stream",
          "name": "stdout",
          "text": [
            "Remember to use Python syntax with x and y as variables\n",
            "Notice how each equation is already set equal to zero\n",
            "Enter the first equation: 0 = x+5\n",
            "Enter the second equation: 0 = y-2\n",
            "x =  -5\n",
            "y =  2\n",
            " \n",
            "If you didn't get a syntax error, code test passed\n"
          ]
        }
      ]
    },
    {
      "cell_type": "markdown",
      "source": [
        "# Step 15 - Solve and graph a system"
      ],
      "metadata": {
        "id": "8FCFQaq1Hizh"
      }
    },
    {
      "cell_type": "markdown",
      "source": [
        "Now you can put it all together: solve a system of equations, graph the system, and plot a point where the two lines intersect. Notice how this code is not like the previous solving equations code or the graphing code or the user input code. Python uses `sympy` to get the (x,y) solution and `numpy` to get the values to graph, so the user inputs nummerical values and the code uses them in two different ways. Think about how you would do this if the user input values for ax + by = c."
      ],
      "metadata": {
        "id": "wMwKLQvyHaWp"
      }
    },
    {
      "cell_type": "code",
      "source": [
        "from sympy import *\n",
        "import matplotlib.pyplot as plt\n",
        "import numpy as np\n",
        "\n",
        "print(\"First equation: y = mx + b\")\n",
        "mb_1 = input(\"Enter m and b, separated by a comma: \")\n",
        "mb_in1 = mb_1.split(\",\")\n",
        "m1 = float(mb_in1[0])\n",
        "b1 = float(mb_in1[1])\n",
        "\n",
        "print(\"Second equation: y = mx + b\")\n",
        "mb_2 = input(\"Enter m and b, separated by a comma: \")\n",
        "mb_in2 = mb_2.split(\",\")\n",
        "m2 = float(mb_in2[0])\n",
        "b2 = float(mb_in2[1])\n",
        "\n",
        "# Solve the system of equations\n",
        "x,y = symbols('x y')\n",
        "first = m1*x + b1 - y\n",
        "second = m2*x + b2 - y\n",
        "solution = linsolve([first, second], (x, y))\n",
        "x_solution = round(float(solution.args[0][0]),3)\n",
        "y_solution = round(float(solution.args[0][1]),3)\n",
        "\n",
        "# Make sure the window includes the solution\n",
        "xmin = int(x_solution) - 20\n",
        "xmax = int(x_solution) + 20\n",
        "ymin = int(y_solution) - 20\n",
        "ymax = int(y_solution) + 20\n",
        "points = 2*(xmax-xmin)\n",
        "\n",
        "# Define the x values once for the graph\n",
        "graph_x = np.linspace(xmin,xmax,points)\n",
        "\n",
        "# Define the y values for the graph\n",
        "y1 = m1*graph_x + b1\n",
        "y2 = m2*graph_x + b2\n",
        "\n",
        "fig, ax = plt.subplots()\n",
        "plt.axis([xmin,xmax,ymin,ymax]) # window size\n",
        "plt.plot([xmin,xmax],[0,0],'b') # blue x axis\n",
        "plt.plot([0,0],[ymin,ymax], 'b') # blue y axis\n",
        "\n",
        "# line 1\n",
        "plt.plot(graph_x, y1)\n",
        "\n",
        "# line 2\n",
        "plt.plot(graph_x, y2)\n",
        "\n",
        "# point\n",
        "plt.plot([x_solution],[y_solution],'ro')\n",
        "\n",
        "plt.show()\n",
        "print(\" \")\n",
        "print(\"Solution: (\", x_solution, \",\", y_solution, \")\")\n",
        "\n",
        "\n",
        "# Run this code and test it with different equations\n"
      ],
      "metadata": {
        "id": "wLBNm5j6HffY",
        "outputId": "f7dc49d4-ead1-4013-a6e1-6a6eb2312f4a",
        "colab": {
          "base_uri": "https://localhost:8080/",
          "height": 534
        }
      },
      "execution_count": 31,
      "outputs": [
        {
          "name": "stdout",
          "output_type": "stream",
          "text": [
            "First equation: y = mx + b\n",
            "Enter m and b, separated by a comma: 2,3\n",
            "Second equation: y = mx + b\n",
            "Enter m and b, separated by a comma: 4,5\n"
          ]
        },
        {
          "output_type": "display_data",
          "data": {
            "text/plain": [
              "<Figure size 640x480 with 1 Axes>"
            ],
            "image/png": "[encoded data removed]"
          },
          "metadata": {}
        },
        {
          "output_type": "stream",
          "name": "stdout",
          "text": [
            " \n",
            "Solution: ( -1.0 , 1.0 )\n"
          ]
        }
      ]
    },
    {
      "cell_type": "markdown",
      "metadata": {
        "id": "BhKPZQJZF9w0"
      },
      "source": [
        "# Step 16 - Quadratic Functions"
      ]
    },
    {
      "cell_type": "markdown",
      "metadata": {
        "id": "BYmD2FYHF9w1"
      },
      "source": [
        "Any function that involves x<sup>2</sup> is a \"quadratic\" function because \"x squared\" could be the area of a square. The graph is a parabola. The formula is y = ax<sup>2</sup> + bx + c, where `b` and `c` can be zero but `a` has to be a number. Here is a graph of the simplest parabola."
      ]
    },
    {
      "cell_type": "code",
      "metadata": {
        "id": "sfQl_A1CF9w1",
        "outputId": "ac90e9f9-4116-4f9c-81a8-41d92e0ab649",
        "colab": {
          "base_uri": "https://localhost:8080/",
          "height": 470
        }
      },
      "source": [
        "import matplotlib.pyplot as plt\n",
        "import numpy as np\n",
        "\n",
        "xmin = -10\n",
        "xmax = 10\n",
        "ymin = -10\n",
        "ymax = 10\n",
        "points = 2*(xmax-xmin)\n",
        "x = np.linspace(xmin,xmax,points)\n",
        "\n",
        "fig, ax = plt.subplots()\n",
        "plt.axis([xmin,xmax,ymin,ymax]) # window size\n",
        "plt.plot([xmin,xmax],[0,0],'b') # blue x axis\n",
        "plt.plot([0,0],[ymin,ymax], 'b') # blue y axis\n",
        "\n",
        "y = x**2\n",
        "\n",
        "plt.plot(x,y)\n",
        "plt.show()\n",
        "\n",
        "# Just run this code. The next step will transform the graph\n",
        "import math_code_test_b as test\n",
        "test.step01()"
      ],
      "execution_count": 32,
      "outputs": [
        {
          "output_type": "display_data",
          "data": {
            "text/plain": [
              "<Figure size 640x480 with 1 Axes>"
            ],
            "image/png": "[encoded data removed]"
          },
          "metadata": {}
        },
        {
          "output_type": "stream",
          "name": "stdout",
          "text": [
            "Code test Passed\n",
            "Go on to the next step\n"
          ]
        }
      ]
    },
    {
      "cell_type": "markdown",
      "metadata": {
        "id": "I0mklEluF-jI"
      },
      "source": [
        "# Step 17 - Quadratic Function ABC's"
      ]
    },
    {
      "cell_type": "markdown",
      "metadata": {
        "id": "AJuHf8ySF-jJ"
      },
      "source": [
        "Using the parabola formula y = ax<sup>2</sup> + bx + c, you will change the values of `a`, `b`, and `c` to see how they affect the graph. Run the code and use the sliders to change the values of `a` and `b`. Then change the code in the three places indicated to add a slider for `c`. You may remember this type of interactive graph from an earlier step. Move each slider to see how it affects the graph."
      ]
    },
    {
      "cell_type": "code",
      "metadata": {
        "id": "9IVFnXxVF-jJ",
        "outputId": "7d47a4b8-0e28-4b35-a290-2475c6a1a74b",
        "colab": {
          "base_uri": "https://localhost:8080/",
          "height": 583,
          "referenced_widgets": [
            "fba2a0f6e4614df2a56a45ff34004931",
            "1bcf3c8ec51a4b9fb53aec96893b1146",
            "81d171b5f6534c5d8b5a52457697a952",
            "3ebd869fbeff4a7f877b878191ba2239",
            "d03a0347226342d1b4adb8d8bc8624b7",
            "bf7846d2c4a74118a9074122dfb5d0b3",
            "021038416c1a4f3ea876b2e8a84b2724",
            "6ba536fda1bf4b3a905f6afa4e86b059",
            "bf4d365fcca74ede8eeff035269b000b",
            "051a538d5d504c4faccd99eb8d66db64",
            "ca1fb86a94104a879ba1f2670264bfa7",
            "8777a8554bd0470493d02d926fc48850",
            "fe9ab568a54745028cca36e83a79122a"
          ]
        }
      },
      "source": [
        "%matplotlib inline\n",
        "from ipywidgets import interactive\n",
        "import matplotlib.pyplot as plt\n",
        "import numpy as np\n",
        "\n",
        "# Change the next line to include c:\n",
        "def f(a,b,c):\n",
        "    plt.axis([-10,10,-10,10]) # window size\n",
        "    plt.plot([-10,10],[0,0],'k') # blue x axis\n",
        "    plt.plot([0,0],[-10,10], 'k') # blue y axis\n",
        "    x = np.linspace(-10, 10, 1000)\n",
        "\n",
        "    # Change the next line to add c to the end of the function:\n",
        "    plt.plot(x, a*x**2 + b*x + c)\n",
        "    plt.show()\n",
        "\n",
        "# Change the next line to add a slider to change the c value\n",
        "interactive_plot = interactive(f, a=(-9, 9), b=(-9,9), c=(-9, 9))\n",
        "interactive_plot\n",
        "\n",
        "\n",
        "# Run the code once, then change the code and run it again\n",
        "\n",
        "# Only change code above this line\n",
        "import math_code_test_b as test\n",
        "test.step17(In[-1].split('# Only change code above this line')[0])\n",
        "interactive_plot"
      ],
      "execution_count": 37,
      "outputs": [
        {
          "output_type": "stream",
          "name": "stdout",
          "text": [
            "Code test passed\n",
            "Go on to the next step\n",
            " \n"
          ]
        },
        {
          "output_type": "display_data",
          "data": {
            "text/plain": [
              "interactive(children=(IntSlider(value=0, description='a', max=9, min=-9), IntSlider(value=0, description='b', …"
            ],
            "application/vnd.jupyter.widget-view+json": {
              "version_major": 2,
              "version_minor": 0,
              "model_id": "fba2a0f6e4614df2a56a45ff34004931"
            }
          },
          "metadata": {}
        }
      ]
    },
    {
      "cell_type": "markdown",
      "metadata": {
        "id": "eFehWNexGASC"
      },
      "source": [
        "# Step 18 - Quadratic Functions - Vertex"
      ]
    },
    {
      "cell_type": "markdown",
      "metadata": {
        "id": "p8hAZw_CGASD"
      },
      "source": [
        "The <i>vertex</i> is the point where the parabola turns around. The x value of the vertex is $\\frac{-b}{2a}$ (and then you would calculate the y value to get the point). Write the code to find the vertex, given `a`, `b`, and `c` as inputs. Remember the parabola forumula is y = ax<sup>2</sup> + bx + c"
      ]
    },
    {
      "cell_type": "code",
      "metadata": {
        "id": "cjMI5uZZGASD",
        "outputId": "3e156217-aeba-4422-bc0b-8dafda536db3",
        "colab": {
          "base_uri": "https://localhost:8080/",
          "height": 586
        }
      },
      "source": [
        "import matplotlib.pyplot as plt\n",
        "import numpy as np\n",
        "\n",
        "# \\u00b2 prints 2 as an exponent\n",
        "print(\"y = ax\\u00b2 + bx + c\")\n",
        "\n",
        "a = float(input(\"a = \"))\n",
        "b = float(input(\"b = \"))\n",
        "c = float(input(\"c = \"))\n",
        "\n",
        "# Write your code here, changing vx and vy\n",
        "vx = -b/(2*a)\n",
        "vy = a*vx**2 + b*vx + c\n",
        "\n",
        "\n",
        "# Only change the code above this line\n",
        "\n",
        "print(\" (\", vx, \" , \", vy, \")\")\n",
        "print(\" \")\n",
        "\n",
        "xmin = int(vx)-10\n",
        "xmax = int(vx)+10\n",
        "ymin = int(vy)-10\n",
        "ymax = int(vy)+10\n",
        "points = 2*(xmax-xmin)\n",
        "x = np.linspace(xmin,xmax,points)\n",
        "\n",
        "fig, ax = plt.subplots()\n",
        "plt.axis([xmin,xmax,ymin,ymax]) # window size\n",
        "plt.plot([xmin,xmax],[0,0],'b') # blue x axis\n",
        "plt.plot([0,0],[ymin,ymax], 'b') # blue y axis\n",
        "\n",
        "plt.plot([vx],[vy],'ro') # vertex\n",
        "\n",
        "x = np.linspace(vx-10,vx+10,100)\n",
        "y = a*x**2 + b*x + c\n",
        "plt.plot(x,y)\n",
        "\n",
        "plt.show()\n",
        "\n",
        "\n",
        "# Only change code above this line\n",
        "import math_code_test_b as test\n",
        "test.step18(In[-1].split('# Only change code above this line')[0])"
      ],
      "execution_count": 39,
      "outputs": [
        {
          "output_type": "stream",
          "name": "stdout",
          "text": [
            "y = ax² + bx + c\n",
            "a = 1\n",
            "b = 2\n",
            "c = 3\n",
            " ( -1.0  ,  2.0 )\n",
            " \n"
          ]
        },
        {
          "output_type": "display_data",
          "data": {
            "text/plain": [
              "<Figure size 640x480 with 1 Axes>"
            ],
            "image/png": "[encoded data removed]"
          },
          "metadata": {}
        },
        {
          "output_type": "stream",
          "name": "stdout",
          "text": [
            " \n",
            "Code test passed\n",
            "Go on to the next step\n"
          ]
        }
      ]
    },
    {
      "cell_type": "markdown",
      "metadata": {
        "id": "WbqugasGGCKJ"
      },
      "source": [
        "# Step 19 - Projectile Motion"
      ]
    },
    {
      "cell_type": "markdown",
      "metadata": {
        "id": "TtM_pFHaGCKK"
      },
      "source": [
        "The path of every projectile is a parabola. For something thrown or launched upward, the `a` value is -4.9 (meters per second squared); the `b` value is the initial velocity (in meters per second); the `c` value is the initial height (in meters); the `x` value is time (in seconds); and the `y` value is the height at that time. In this code, change `vx` and `vy` to represent the vertex. Plotting that (x,y) vertex point is already in the code."
      ]
    },
    {
      "cell_type": "code",
      "metadata": {
        "id": "FTNV_bjuGCKL",
        "outputId": "d3c21814-eeac-4f77-c056-0fbc98e5423a",
        "colab": {
          "base_uri": "https://localhost:8080/",
          "height": 557
        }
      },
      "source": [
        "import matplotlib.pyplot as plt\n",
        "import numpy as np\n",
        "\n",
        "a = -4.9\n",
        "b = float(input(\"Initial velocity = \"))\n",
        "c = float(input(\"Initial height = \"))\n",
        "\n",
        "# Change vx and vy to represent the vertex\n",
        "vx = -b/(2*a)\n",
        "vy = a*vx**2 + b*vx + c\n",
        "\n",
        "\n",
        "# Also change the following dimensions to display the vertex\n",
        "xmin = -10\n",
        "xmax = 10\n",
        "ymin = -10\n",
        "ymax = 10\n",
        "\n",
        "# You do not need to change anything below this line\n",
        "points = 2*(xmax-xmin)\n",
        "x = np.linspace(xmin,xmax,points)\n",
        "y = a*x**2 + b*x + c\n",
        "\n",
        "fig, ax = plt.subplots()\n",
        "plt.axis([xmin,xmax,ymin,ymax]) # window size\n",
        "plt.plot([xmin,xmax],[0,0],'b') # blue x axis\n",
        "plt.plot([0,0],[ymin,ymax], 'b') # blue y axis\n",
        "\n",
        "plt.plot(x,y) # plot the line for the equation\n",
        "plt.plot([vx],[vy],'ro') # plot the vertex point\n",
        "\n",
        "print(\" (\", vx, \",\", vy, \")\")\n",
        "print(\" \")\n",
        "plt.show()\n",
        "\n",
        "\n",
        "# Only change code above this line\n",
        "import math_code_test_b as test\n",
        "test.step19(In[-1].split('# Only change code above this line')[0])"
      ],
      "execution_count": 41,
      "outputs": [
        {
          "output_type": "stream",
          "name": "stdout",
          "text": [
            "Initial velocity = 1\n",
            "Initial height = 2\n",
            " ( 0.1020408163265306 , 2.0510204081632653 )\n",
            " \n"
          ]
        },
        {
          "output_type": "display_data",
          "data": {
            "text/plain": [
              "<Figure size 640x480 with 1 Axes>"
            ],
            "image/png": "[encoded data removed]"
          },
          "metadata": {}
        },
        {
          "output_type": "stream",
          "name": "stdout",
          "text": [
            " \n",
            "Code test passed\n",
            "Go on to the next step\n"
          ]
        }
      ]
    },
    {
      "cell_type": "markdown",
      "metadata": {
        "id": "hN_fvENUGBAm"
      },
      "source": [
        "# Step 20 - Quadratic Functions - C"
      ]
    },
    {
      "cell_type": "markdown",
      "metadata": {
        "id": "GrJNli5pGBAn"
      },
      "source": [
        "Like many other functions, the `c` value (also called the \"constant\" because it is not a variable) affects the vertical shift of the graph. Run the following code to see how changing the `c` value changes the graph."
      ]
    },
    {
      "cell_type": "code",
      "metadata": {
        "id": "hiSN0VexGBAn",
        "outputId": "516b0f8d-35a6-4c94-d388-76cf1b4d6dc8",
        "colab": {
          "base_uri": "https://localhost:8080/",
          "height": 487
        }
      },
      "source": [
        "import matplotlib.pyplot as plt\n",
        "import numpy as np\n",
        "import time\n",
        "from IPython import display\n",
        "\n",
        "x = np.linspace(-4,4,16)\n",
        "fig, ax = plt.subplots()\n",
        "cvalue = \"c = \"\n",
        "\n",
        "for c in range(10):\n",
        "    y = -x**2+c\n",
        "    plt.plot(x,y)\n",
        "    cvalue = \"c = \", c\n",
        "    ax.set_title(cvalue)\n",
        "    display.display(plt.gcf())\n",
        "    time.sleep(0.5)\n",
        "    display.clear_output(wait=True)\n",
        "\n",
        "# Just run this code\n",
        "import math_code_test_b as test\n",
        "test.step01()"
      ],
      "execution_count": 42,
      "outputs": [
        {
          "output_type": "stream",
          "name": "stdout",
          "text": [
            "Code test Passed\n",
            "Go on to the next step\n"
          ]
        },
        {
          "output_type": "display_data",
          "data": {
            "text/plain": [
              "<Figure size 640x480 with 1 Axes>"
            ],
            "image/png": "[encoded data removed]"
          },
          "metadata": {}
        }
      ]
    },
    {
      "cell_type": "markdown",
      "metadata": {
        "id": "vteEy9QFGD5I"
      },
      "source": [
        "# Step 21 - The Quadratic Formula"
      ]
    },
    {
      "cell_type": "markdown",
      "metadata": {
        "id": "xALyhEsNGD5J"
      },
      "source": [
        "For a projectile, you also need to find the point when it hits the ground. On a graph, you would call these points the \"roots\" or \"x intercepts\" or \"zeros\" (because y = 0 at these points). The <i>quadratic formula</i> gives you the x value when y = 0. Given `a`,`b` and `c`, here is the quadratic formula:<br> x = $\\frac{-b \\pm \\sqrt{b^2 - 4ac}}{2a}$ Notice it's the vertex plus or minus something: $\\frac{-b}{2a} + \\frac{\\sqrt{b^2 - 4ac}}{2a}$ and $\\frac{-b}{2a} - \\frac{\\sqrt{b^2 - 4ac}}{2a}$ <br>\n",
        "Write the code to output two x values, given a, b, and c as input. Use `math.sqrt()` for the square root."
      ]
    },
    {
      "cell_type": "code",
      "metadata": {
        "id": "R3OIh1pOGD5K",
        "outputId": "549fec22-9ff5-4b0e-d2de-14662c2a994d",
        "colab": {
          "base_uri": "https://localhost:8080/"
        }
      },
      "source": [
        "import math\n",
        "\n",
        "# \\u00b2 prints 2 as an exponent\n",
        "print(\"0 = ax\\u00b2 + bx + c\")\n",
        "a = float(input(\"a = \"))\n",
        "b = float(input(\"b = \"))\n",
        "c = float(input(\"c = \"))\n",
        "x1 = 0\n",
        "x2 = 0\n",
        "\n",
        "# Check for non-real answers:\n",
        "if b**2-4*a*c < 0:\n",
        "    print(\"No real roots\")\n",
        "else:\n",
        "    # Write your code here, changing x1 and x2\n",
        "    x1 = (-b + math.sqrt(b**2 - 4*a*c))/(2*a)\n",
        "    x2 = (-b - math.sqrt(b**2 - 4*a*c))/(2*a)\n",
        "    print(\"The roots are \", x1, \" and \", x2)\n",
        "\n",
        "\n",
        "\n",
        "# Only change code above this line\n",
        "import math_code_test_b as test\n",
        "test.step21(In[-1].split('# Only change code above this line')[0])"
      ],
      "execution_count": 47,
      "outputs": [
        {
          "output_type": "stream",
          "name": "stdout",
          "text": [
            "0 = ax² + bx + c\n",
            "a = 1\n",
            "b = 2\n",
            "c = 3\n",
            "No real roots\n",
            " \n",
            "Code test passed\n",
            "Go on to the next step\n"
          ]
        }
      ]
    },
    {
      "cell_type": "markdown",
      "metadata": {
        "id": "VXxx7RCVSs4j"
      },
      "source": [
        "# Step 22 - Table of Values"
      ]
    },
    {
      "cell_type": "markdown",
      "metadata": {
        "id": "9Bd8bgPISiRH"
      },
      "source": [
        "In addition to graphing a function, you may need a table of values. This code shows how to make a simple table of (x,y) values. Run the code, then change the title to \"y = 3x + 2\" and change the function in the table."
      ]
    },
    {
      "cell_type": "code",
      "metadata": {
        "id": "e4dBSioJGGd3",
        "outputId": "1488a116-c28b-4b38-d1ca-82bef02adcb2",
        "colab": {
          "base_uri": "https://localhost:8080/",
          "height": 480
        }
      },
      "source": [
        "import numpy as np\n",
        "import matplotlib.pyplot as plt\n",
        "\n",
        "ax = plt.subplot()\n",
        "ax.set_axis_off()\n",
        "title = \"y = 3x + 2\" # Change this title\n",
        "cols = ('x', 'y')\n",
        "rows = [[0,0]]\n",
        "for a in range(1,10):\n",
        "    rows.append([a, 3*a+2]) # Change only the function in this line\n",
        "\n",
        "ax.set_title(title)\n",
        "plt.table(cellText=rows, colLabels=cols, cellLoc='center', loc='upper left')\n",
        "plt.show()\n",
        "\n",
        "\n",
        "# Only change code above this line\n",
        "import math_code_test_b as test\n",
        "test.step22(In[-1].split('# Only change code above this line')[0])"
      ],
      "execution_count": 51,
      "outputs": [
        {
          "output_type": "display_data",
          "data": {
            "text/plain": [
              "<Figure size 640x480 with 1 Axes>"
            ],
            "image/png": "[encoded data removed]"
          },
          "metadata": {}
        },
        {
          "output_type": "stream",
          "name": "stdout",
          "text": [
            " \n",
            "Code test passed\n",
            "Go on to the next step\n"
          ]
        }
      ]
    },
    {
      "cell_type": "markdown",
      "metadata": {
        "id": "jpo7oASHGEu7"
      },
      "source": [
        "# Step 23 - Projectile Game"
      ]
    },
    {
      "cell_type": "markdown",
      "metadata": {
        "id": "WHx9faGkGEu7"
      },
      "source": [
        "Learn quadratic functions by building a projectile game. Starting at (0,0) you launch a toy rocket that must clear a wall. You can randomize the height and location of the wall. The goal is to determine what initial velocity would get the rocket over the wall. Bonus: make an animation of the path of the rocket.\n"
      ]
    },
    {
      "cell_type": "code",
      "metadata": {
        "id": "-yFfSgoeWHN3",
        "outputId": "bc8d2231-aba7-4f60-c71c-7f42149d42fc",
        "colab": {
          "base_uri": "https://localhost:8080/",
          "height": 594
        }
      },
      "source": [
        "# Write your code here\n",
        "from matplotlib.animation import FuncAnimation, PillowWriter\n",
        "import matplotlib.pyplot as plt\n",
        "import numpy as np\n",
        "from matplotlib.animation import FuncAnimation\n",
        "import random\n",
        "\n",
        "def projectile_path(v0, angle, g=9.81):\n",
        "    angle_rad = np.radians(angle)\n",
        "    t_flight = 2 * v0 * np.sin(angle_rad) / g\n",
        "    t = np.linspace(0, t_flight, num=500)\n",
        "    x = v0 * np.cos(angle_rad) * t\n",
        "    y = v0 * np.sin(angle_rad) * t - 0.5 * g * t**2\n",
        "    return x, y\n",
        "\n",
        "def projectile_game():\n",
        "    print(\"Welcome to the Projectile Game!\")\n",
        "    print(\"Your goal is to launch a rocket over a random wall.\")\n",
        "\n",
        "    wall_x = random.randint(50, 100)\n",
        "    wall_height = random.randint(10, 50)\n",
        "    print(f\"The wall is at x = {wall_x} and has a height of {wall_height}.\")\n",
        "\n",
        "    v0 = float(input(\"Enter the initial velocity (m/s): \"))\n",
        "    angle = float(input(\"Enter the launch angle (degrees): \"))\n",
        "\n",
        "    x, y = projectile_path(v0, angle)\n",
        "\n",
        "    hits_wall = any((x >= wall_x - 0.5) & (x <= wall_x + 0.5) & (y < wall_height))\n",
        "    clears_wall = max(y[x >= wall_x]) > wall_height if any(x >= wall_x) else False\n",
        "\n",
        "    if clears_wall:\n",
        "        print(\"Congratulations! The rocket cleared the wall.\")\n",
        "    elif hits_wall:\n",
        "        print(\"Oops! The rocket hit the wall.\")\n",
        "    else:\n",
        "        print(\"The rocket didn't even reach the wall.\")\n",
        "\n",
        "    animate_projectile(x, y, wall_x, wall_height)\n",
        "\n",
        "def animate_projectile(x, y, wall_x, wall_height):\n",
        "    fig, ax = plt.subplots()\n",
        "    ax.set_xlim(0, max(x) + 10)\n",
        "    ax.set_ylim(0, max(max(y), wall_height) + 10)\n",
        "    ax.axvline(wall_x, color='red', linestyle='--', label='Wall')\n",
        "    ax.plot([wall_x, wall_x], [0, wall_height], 'r', label='Wall Height')\n",
        "    ax.legend(loc=\"upper right\")\n",
        "    ax.set_xlabel(\"Distance (m)\")\n",
        "    ax.set_ylabel(\"Height (m)\")\n",
        "    ax.set_title(\"Projectile Path\")\n",
        "\n",
        "    line, = ax.plot([], [], lw=2, label='Rocket Path')\n",
        "    point, = ax.plot([], [], 'ro')\n",
        "\n",
        "    def init():\n",
        "        line.set_data([], [])\n",
        "        point.set_data([], [])\n",
        "        return line, point\n",
        "\n",
        "    def update(frame):\n",
        "        line.set_data(x[:frame], y[:frame])\n",
        "        point.set_data([x[frame]], [y[frame]])\n",
        "        return line, point\n",
        "\n",
        "    ani = FuncAnimation(fig, update, frames=len(x), init_func=init, blit=True, interval=20, repeat=False)\n",
        "\n",
        "    ani.save('projectile_path.gif', writer=PillowWriter(fps=30))\n",
        "    print(\"Animation saved as 'projectile_path.gif'.\")\n",
        "\n",
        "projectile_game()\n",
        "\n",
        "# This step does not have a test"
      ],
      "execution_count": 64,
      "outputs": [
        {
          "output_type": "stream",
          "name": "stdout",
          "text": [
            "Welcome to the Projectile Game!\n",
            "Your goal is to launch a rocket over a random wall.\n",
            "The wall is at x = 94 and has a height of 27.\n",
            "Enter the initial velocity (m/s): 55\n",
            "Enter the launch angle (degrees): 45\n",
            "Congratulations! The rocket cleared the wall.\n",
            "Animation saved as 'projectile_path.gif'.\n"
          ]
        },
        {
          "output_type": "display_data",
          "data": {
            "text/plain": [
              "<Figure size 640x480 with 1 Axes>"
            ],
            "image/png": "[encoded data removed]"
          },
          "metadata": {}
        }
      ]
    },
    {
      "cell_type": "markdown",
      "source": [
        "# Step 24 - Define Graphing Functions"
      ],
      "metadata": {
        "id": "pE5o0-VMaIy3"
      }
    },
    {
      "cell_type": "markdown",
      "source": [
        "Building on what you have already done, create a menu with the following options:<br>\n",
        "<ul>\n",
        "<li>Display the graph and a table of values for any \"y=\" equation input</li>\n",
        "<li>Solve a system of two equations without graphing</li>\n",
        "<li>Graph two equations and plot the point of intersection</li>\n",
        "<li>Given a, b and c in a quadratic equation, plot the roots and vertex</li>\n",
        "</ul>\n",
        "Then think about how you will define a function for each item."
      ],
      "metadata": {
        "id": "c5tXoITnag_P"
      }
    },
    {
      "cell_type": "code",
      "source": [
        "# Write your code here\n",
        "import numpy as np\n",
        "import matplotlib.pyplot as plt\n",
        "from sympy import symbols, Eq, solve\n",
        "from sympy.parsing.sympy_parser import parse_expr\n",
        "\n",
        "def display_graph_and_table():\n",
        "    equation = input(\"Enter an equation in the form y = f(x): \").strip()\n",
        "    equation = equation.replace(\"y=\", \"\").strip()\n",
        "    x_vals = np.linspace(-10, 10, 100)\n",
        "    x = symbols('x')\n",
        "    y_expr = parse_expr(equation)\n",
        "\n",
        "    y_vals = [float(y_expr.subs(x, val)) for val in x_vals]\n",
        "    plt.plot(x_vals, y_vals, label=f\"y = {equation}\")\n",
        "    plt.axhline(0, color='black', linewidth=0.5)\n",
        "    plt.axvline(0, color='black', linewidth=0.5)\n",
        "    plt.grid()\n",
        "    plt.legend()\n",
        "    plt.title(f\"Graph of y = {equation}\")\n",
        "    plt.xlabel(\"x\")\n",
        "    plt.ylabel(\"y\")\n",
        "    plt.show()\n",
        "\n",
        "    print(\"\\nTable of values:\")\n",
        "    for x_val, y_val in zip(np.linspace(-10, 10, 11), np.linspace(-10, 10, 11)):\n",
        "        print(f\"x = {x_val:.2f}, y = {y_expr.subs(x, x_val):.2f}\")\n",
        "\n",
        "def solve_system_of_equations():\n",
        "    print(\"Enter equations in the form y = mx + b:\")\n",
        "    eq1 = input(\"Enter the first equation: \").strip()\n",
        "    eq2 = input(\"Enter the second equation: \").strip()\n",
        "    eq1 = eq1.replace(\"y=\", \"\").strip()\n",
        "    eq2 = eq2.replace(\"y=\", \"\").strip()\n",
        "\n",
        "    x, y = symbols('x y')\n",
        "    eq1_sympy = Eq(y, parse_expr(eq1))\n",
        "    eq2_sympy = Eq(y, parse_expr(eq2))\n",
        "    solution = solve((eq1_sympy, eq2_sympy), (x, y))\n",
        "\n",
        "    print(f\"Solution to the system of equations: {solution}\")\n",
        "\n",
        "def graph_and_intersection():\n",
        "    print(\"Enter equations in the form y = mx + b:\")\n",
        "    eq1 = input(\"Enter the first equation: \").strip()\n",
        "    eq2 = input(\"Enter the second equation: \").strip()\n",
        "    eq1 = eq1.replace(\"y=\", \"\").strip()\n",
        "    eq2 = eq2.replace(\"y=\", \"\").strip()\n",
        "\n",
        "    x, y = symbols('x y')\n",
        "    eq1_sympy = parse_expr(eq1)\n",
        "    eq2_sympy = parse_expr(eq2)\n",
        "    intersection = solve(Eq(eq1_sympy, eq2_sympy), x)\n",
        "\n",
        "    x_vals = np.linspace(-10, 10, 100)\n",
        "    y_vals_eq1 = [float(eq1_sympy.subs(x, val)) for val in x_vals]\n",
        "    y_vals_eq2 = [float(eq2_sympy.subs(x, val)) for val in x_vals]\n",
        "\n",
        "    plt.plot(x_vals, y_vals_eq1, label=f\"y = {eq1}\")\n",
        "    plt.plot(x_vals, y_vals_eq2, label=f\"y = {eq2}\")\n",
        "\n",
        "    if intersection:\n",
        "        x_inter = intersection[0]\n",
        "        y_inter = eq1_sympy.subs(x, x_inter)\n",
        "        plt.plot(float(x_inter), float(y_inter), 'ro', label=\"Intersection\")\n",
        "\n",
        "    plt.axhline(0, color='black', linewidth=0.5)\n",
        "    plt.axvline(0, color='black', linewidth=0.5)\n",
        "    plt.grid()\n",
        "    plt.legend()\n",
        "    plt.title(\"Graph of the Equations and Intersection\")\n",
        "    plt.xlabel(\"x\")\n",
        "    plt.ylabel(\"y\")\n",
        "    plt.show()\n",
        "\n",
        "def quadratic_roots_and_vertex():\n",
        "    print(\"Enter coefficients for the quadratic equation ax^2 + bx + c = 0:\")\n",
        "    a = float(input(\"Enter coefficient a: \"))\n",
        "    b = float(input(\"Enter coefficient b: \"))\n",
        "    c = float(input(\"Enter coefficient c: \"))\n",
        "\n",
        "    x = symbols('x')\n",
        "    quadratic = a*x**2 + b*x + c\n",
        "    roots = solve(quadratic, x)\n",
        "    vertex_x = -b / (2*a)\n",
        "    vertex_y = quadratic.subs(x, vertex_x)\n",
        "\n",
        "    x_vals = np.linspace(-10, 10, 100)\n",
        "    y_vals = [float(quadratic.subs(x, val)) for val in x_vals]\n",
        "\n",
        "    plt.plot(x_vals, y_vals, label=f\"{a}x^2 + {b}x + {c}\")\n",
        "    plt.axhline(0, color='black', linewidth=0.5)\n",
        "    plt.axvline(0, color='black', linewidth=0.5)\n",
        "\n",
        "    if roots:\n",
        "        for root in roots:\n",
        "            plt.plot(float(root), 0, 'ro', label=f\"Root: {float(root):.2f}\")\n",
        "\n",
        "    plt.plot(float(vertex_x), float(vertex_y), 'go', label=f\"Vertex: ({vertex_x:.2f}, {vertex_y:.2f})\")\n",
        "    plt.grid()\n",
        "    plt.legend()\n",
        "    plt.title(\"Quadratic Roots and Vertex\")\n",
        "    plt.xlabel(\"x\")\n",
        "    plt.ylabel(\"y\")\n",
        "    plt.show()\n",
        "\n",
        "def main_menu():\n",
        "    while True:\n",
        "        print(\"\\nMain Menu:\")\n",
        "        print(\"1. Display graph and table of values for any y = equation\")\n",
        "        print(\"2. Solve a system of two equations\")\n",
        "        print(\"3. Graph two equations and plot the point of intersection\")\n",
        "        print(\"4. Plot roots and vertex of a quadratic equation\")\n",
        "        print(\"5. Exit\")\n",
        "\n",
        "        choice = input(\"Enter your choice (1-5): \")\n",
        "\n",
        "        if choice == '1':\n",
        "            display_graph_and_table()\n",
        "        elif choice == '2':\n",
        "            solve_system_of_equations()\n",
        "        elif choice == '3':\n",
        "            graph_and_intersection()\n",
        "        elif choice == '4':\n",
        "            quadratic_roots_and_vertex()\n",
        "        elif choice == '5':\n",
        "            print(\"Goodbye!\")\n",
        "            break\n",
        "        else:\n",
        "            print(\"Invalid choice. Please try again.\")\n",
        "\n",
        "# This step does not have a test"
      ],
      "metadata": {
        "id": "lvuStaKYalPo"
      },
      "execution_count": 66,
      "outputs": []
    },
    {
      "cell_type": "markdown",
      "source": [
        "# Step 25 - Certification Project 2"
      ],
      "metadata": {
        "id": "D7ASvHg3b2Ph"
      }
    },
    {
      "cell_type": "markdown",
      "source": [
        "Build a graphing calculator that performs the functions mentioned in the previous step:\n",
        "<ul>\n",
        "<li>Graph one or more functions</li>\n",
        "<li>Create a table of (x,y) values</li>\n",
        "<li>Shade above or below the line</li>\n",
        "<li>Solve and graph a system of two equations</li>\n",
        "<li>Zoom in or out on a graph</li>\n",
        "<li>Solve quadratic equations (given a, b, and c)</li>\n",
        "</ul>"
      ],
      "metadata": {
        "id": "KBcTUf08cRy1"
      }
    },
    {
      "cell_type": "code",
      "source": [
        "# Write your code here\n",
        "import numpy as np\n",
        "import matplotlib.pyplot as plt\n",
        "from sympy import symbols, Eq, solve\n",
        "from sympy.parsing.sympy_parser import parse_expr\n",
        "\n",
        "def graph_functions():\n",
        "    functions = input(\"Enter one or more functions separated by commas (e.g., y=x^2, y=x+3): \").split(',')\n",
        "    x_vals = np.linspace(-10, 10, 100)\n",
        "    x = symbols('x')\n",
        "\n",
        "    plt.figure()\n",
        "    for func in functions:\n",
        "        func = func.strip().replace(\"y=\", \"\")\n",
        "        y_expr = parse_expr(func)\n",
        "        y_vals = [float(y_expr.subs(x, val)) for val in x_vals]\n",
        "        plt.plot(x_vals, y_vals, label=f\"y = {func}\")\n",
        "\n",
        "    plt.axhline(0, color='black', linewidth=0.5)\n",
        "    plt.axvline(0, color='black', linewidth=0.5)\n",
        "    plt.grid()\n",
        "    plt.legend()\n",
        "    plt.title(\"Graph of Functions\")\n",
        "    plt.xlabel(\"x\")\n",
        "    plt.ylabel(\"y\")\n",
        "    plt.show()\n",
        "\n",
        "def create_table_of_values():\n",
        "    equation = input(\"Enter an equation in the form y=f(x): \").strip().replace(\"y=\", \"\")\n",
        "    x_vals = np.linspace(-10, 10, 11)\n",
        "    x = symbols('x')\n",
        "    y_expr = parse_expr(equation)\n",
        "\n",
        "    print(\"\\nTable of values:\")\n",
        "    print(f\"{'x':>5} | {'y':>10}\")\n",
        "    print(\"-\" * 20)\n",
        "    for val in x_vals:\n",
        "        y_val = float(y_expr.subs(x, val))\n",
        "        print(f\"{val:>5.1f} | {y_val:>10.2f}\")\n",
        "\n",
        "def shade_above_below():\n",
        "    equation = input(\"Enter an equation in the form y=f(x): \").strip().replace(\"y=\", \"\")\n",
        "    shade_option = input(\"Shade above or below the line? (above/below): \").strip().lower()\n",
        "    x_vals = np.linspace(-10, 10, 100)\n",
        "    x = symbols('x')\n",
        "    y_expr = parse_expr(equation)\n",
        "    y_vals = [float(y_expr.subs(x, val)) for val in x_vals]\n",
        "\n",
        "    plt.plot(x_vals, y_vals, label=f\"y = {equation}\")\n",
        "    if shade_option == \"above\":\n",
        "        plt.fill_between(x_vals, y_vals, y2=max(y_vals), color='blue', alpha=0.2)\n",
        "    elif shade_option == \"below\":\n",
        "        plt.fill_between(x_vals, y_vals, y2=min(y_vals), color='red', alpha=0.2)\n",
        "\n",
        "    plt.axhline(0, color='black', linewidth=0.5)\n",
        "    plt.axvline(0, color='black', linewidth=0.5)\n",
        "    plt.grid()\n",
        "    plt.legend()\n",
        "    plt.title(\"Shading Above/Below the Line\")\n",
        "    plt.xlabel(\"x\")\n",
        "    plt.ylabel(\"y\")\n",
        "    plt.show()\n",
        "\n",
        "def solve_and_graph_system():\n",
        "    eq1 = input(\"Enter the first equation in the form y=f(x): \").strip().replace(\"y=\", \"\")\n",
        "    eq2 = input(\"Enter the second equation in the form y=f(x): \").strip().replace(\"y=\", \"\")\n",
        "    x, y = symbols('x y')\n",
        "    eq1_expr = parse_expr(eq1)\n",
        "    eq2_expr = parse_expr(eq2)\n",
        "\n",
        "    intersection = solve(Eq(eq1_expr, eq2_expr), x)\n",
        "    print(f\"Intersection point(s): {intersection}\")\n",
        "\n",
        "    x_vals = np.linspace(-10, 10, 100)\n",
        "    y_vals_eq1 = [float(eq1_expr.subs(x, val)) for val in x_vals]\n",
        "    y_vals_eq2 = [float(eq2_expr.subs(x, val)) for val in x_vals]\n",
        "\n",
        "    plt.plot(x_vals, y_vals_eq1, label=f\"y = {eq1}\")\n",
        "    plt.plot(x_vals, y_vals_eq2, label=f\"y = {eq2}\")\n",
        "\n",
        "    for inter in intersection:\n",
        "        y_inter = eq1_expr.subs(x, inter)\n",
        "        plt.plot(float(inter), float(y_inter), 'ro', label=f\"Intersection ({inter:.2f}, {y_inter:.2f})\")\n",
        "\n",
        "    plt.axhline(0, color='black', linewidth=0.5)\n",
        "    plt.axvline(0, color='black', linewidth=0.5)\n",
        "    plt.grid()\n",
        "    plt.legend()\n",
        "    plt.title(\"Graph of System of Equations\")\n",
        "    plt.xlabel(\"x\")\n",
        "    plt.ylabel(\"y\")\n",
        "    plt.show()\n",
        "\n",
        "def zoom_graph():\n",
        "    equation = input(\"Enter an equation in the form y=f(x): \").strip().replace(\"y=\", \"\")\n",
        "    zoom_level = float(input(\"Enter the zoom level (e.g., 1 for default, 0.5 for zoom in, 2 for zoom out): \"))\n",
        "    x_vals = np.linspace(-10 * zoom_level, 10 * zoom_level, 100)\n",
        "    x = symbols('x')\n",
        "    y_expr = parse_expr(equation)\n",
        "    y_vals = [float(y_expr.subs(x, val)) for val in x_vals]\n",
        "\n",
        "    plt.plot(x_vals, y_vals, label=f\"y = {equation}\")\n",
        "    plt.axhline(0, color='black', linewidth=0.5)\n",
        "    plt.axvline(0, color='black', linewidth=0.5)\n",
        "    plt.grid()\n",
        "    plt.legend()\n",
        "    plt.title(f\"Graph with Zoom Level {zoom_level}\")\n",
        "    plt.xlabel(\"x\")\n",
        "    plt.ylabel(\"y\")\n",
        "    plt.show()\n",
        "\n",
        "def solve_quadratic():\n",
        "    a = float(input(\"Enter the coefficient a: \"))\n",
        "    b = float(input(\"Enter the coefficient b: \"))\n",
        "    c = float(input(\"Enter the coefficient c: \"))\n",
        "    x = symbols('x')\n",
        "    quadratic = a*x**2 + b*x + c\n",
        "    roots = solve(quadratic, x)\n",
        "    print(f\"Roots of the equation: {roots}\")\n",
        "\n",
        "    x_vals = np.linspace(-10, 10, 100)\n",
        "    y_vals = [float(quadratic.subs(x, val)) for val in x_vals]\n",
        "\n",
        "    plt.plot(x_vals, y_vals, label=f\"{a}x^2 + {b}x + {c}\")\n",
        "    for root in roots:\n",
        "        plt.plot(float(root), 0, 'ro', label=f\"Root: {float(root):.2f}\")\n",
        "    plt.axhline(0, color='black', linewidth=0.5)\n",
        "    plt.axvline(0, color='black', linewidth=0.5)\n",
        "    plt.grid()\n",
        "    plt.legend()\n",
        "    plt.title(\"Quadratic Equation and Roots\")\n",
        "    plt.xlabel(\"x\")\n",
        "    plt.ylabel(\"y\")\n",
        "    plt.show()\n",
        "\n",
        "def main_menu():\n",
        "    while True:\n",
        "        print(\"\\nGraphing Calculator Menu:\")\n",
        "        print(\"1. Graph one or more functions\")\n",
        "        print(\"2. Create a table of values\")\n",
        "        print(\"3. Shade above or below a line\")\n",
        "        print(\"4. Solve and graph a system of equations\")\n",
        "        print(\"5. Zoom in or out on a graph\")\n",
        "        print(\"6. Solve quadratic equations\")\n",
        "        print(\"7. Exit\")\n",
        "\n",
        "        choice = input(\"Enter your choice (1-7): \")\n",
        "\n",
        "        if choice == '1':\n",
        "            graph_functions()\n",
        "        elif choice == '2':\n",
        "            create_table_of_values()\n",
        "        elif choice == '3':\n",
        "            shade_above_below()\n",
        "        elif choice == '4':\n",
        "            solve_and_graph_system()\n",
        "        elif choice == '5':\n",
        "            zoom_graph()\n",
        "        elif choice == '6':\n",
        "            solve_quadratic()\n",
        "        elif choice == '7':\n",
        "            print(\"Goodbye!\")\n",
        "            break\n",
        "        else:\n",
        "            print(\"Invalid choice. Please try again.\")\n",
        "\n",
        "main_menu()\n",
        "\n",
        "# This step does not have a test"
      ],
      "metadata": {
        "id": "bmuz1zCecVCX",
        "outputId": "8a605950-158b-4a27-d2e5-60de48ee0e5e",
        "colab": {
          "base_uri": "https://localhost:8080/",
          "height": 854
        }
      },
      "execution_count": 69,
      "outputs": [
        {
          "name": "stdout",
          "output_type": "stream",
          "text": [
            "\n",
            "Graphing Calculator Menu:\n",
            "1. Graph one or more functions\n",
            "2. Create a table of values\n",
            "3. Shade above or below a line\n",
            "4. Solve and graph a system of equations\n",
            "5. Zoom in or out on a graph\n",
            "6. Solve quadratic equations\n",
            "7. Exit\n",
            "Enter your choice (1-7): 1\n",
            "Enter one or more functions separated by commas (e.g., y=x^2, y=x+3): y=x+3\n"
          ]
        },
        {
          "output_type": "display_data",
          "data": {
            "text/plain": [
              "<Figure size 640x480 with 1 Axes>"
            ],
            "image/png": "[encoded data removed]"
          },
          "metadata": {}
        },
        {
          "output_type": "stream",
          "name": "stdout",
          "text": [
            "\n",
            "Graphing Calculator Menu:\n",
            "1. Graph one or more functions\n",
            "2. Create a table of values\n",
            "3. Shade above or below a line\n",
            "4. Solve and graph a system of equations\n",
            "5. Zoom in or out on a graph\n",
            "6. Solve quadratic equations\n",
            "7. Exit\n",
            "Enter your choice (1-7): 7\n",
            "Goodbye!\n"
          ]
        }
      ]
    }
  ]
}
